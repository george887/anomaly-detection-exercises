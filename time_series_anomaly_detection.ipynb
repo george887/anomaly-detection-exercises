{
 "cells": [
  {
   "cell_type": "code",
   "execution_count": 1,
   "metadata": {},
   "outputs": [],
   "source": [
    "import numpy as np\n",
    "import pandas as pd\n",
    "import math\n",
    "from sklearn import metrics\n",
    "\n",
    "from scipy.stats import entropy\n",
    "\n",
    "import warnings\n",
    "warnings.filterwarnings(\"ignore\")\n",
    "import matplotlib.pyplot as plt\n",
    "import matplotlib.dates as mdates #to format dates on our plots\n",
    "%matplotlib inline\n",
    "import seaborn as sns\n",
    "\n",
    "# This is to make sure matplotlib doesn't throw the following error:\n",
    "# The next line fixes \"TypeError: float() argument must be a string or a number, not 'Timestamp' matplotlib\"\n",
    "pd.plotting.register_matplotlib_converters()"
   ]
  },
  {
   "cell_type": "markdown",
   "metadata": {},
   "source": [
    "# Exercises\n",
    "file name: time_series_anomaly_detection.py or time_series_anomaly_detection.ipynb\n",
    "\n",
    "## Discover users who are accessing our curriculum pages way beyond the end of their codeup time. What would the dataframe look like? Use time series method for detecting anomalies, like exponential moving average with %b."
   ]
  },
  {
   "cell_type": "code",
   "execution_count": 2,
   "metadata": {},
   "outputs": [],
   "source": [
    "data = pd.read_csv('anonymized-curriculum-access.txt', sep=\" \", header=None)"
   ]
  },
  {
   "cell_type": "code",
   "execution_count": 3,
   "metadata": {},
   "outputs": [
    {
     "data": {
      "text/html": [
       "<div>\n",
       "<style scoped>\n",
       "    .dataframe tbody tr th:only-of-type {\n",
       "        vertical-align: middle;\n",
       "    }\n",
       "\n",
       "    .dataframe tbody tr th {\n",
       "        vertical-align: top;\n",
       "    }\n",
       "\n",
       "    .dataframe thead th {\n",
       "        text-align: right;\n",
       "    }\n",
       "</style>\n",
       "<table border=\"1\" class=\"dataframe\">\n",
       "  <thead>\n",
       "    <tr style=\"text-align: right;\">\n",
       "      <th></th>\n",
       "      <th>0</th>\n",
       "      <th>1</th>\n",
       "      <th>2</th>\n",
       "      <th>3</th>\n",
       "      <th>4</th>\n",
       "      <th>5</th>\n",
       "    </tr>\n",
       "  </thead>\n",
       "  <tbody>\n",
       "    <tr>\n",
       "      <th>0</th>\n",
       "      <td>2018-01-26</td>\n",
       "      <td>09:55:03</td>\n",
       "      <td>/</td>\n",
       "      <td>1</td>\n",
       "      <td>8.0</td>\n",
       "      <td>97.105.19.61</td>\n",
       "    </tr>\n",
       "    <tr>\n",
       "      <th>1</th>\n",
       "      <td>2018-01-26</td>\n",
       "      <td>09:56:02</td>\n",
       "      <td>java-ii</td>\n",
       "      <td>1</td>\n",
       "      <td>8.0</td>\n",
       "      <td>97.105.19.61</td>\n",
       "    </tr>\n",
       "    <tr>\n",
       "      <th>2</th>\n",
       "      <td>2018-01-26</td>\n",
       "      <td>09:56:05</td>\n",
       "      <td>java-ii/object-oriented-programming</td>\n",
       "      <td>1</td>\n",
       "      <td>8.0</td>\n",
       "      <td>97.105.19.61</td>\n",
       "    </tr>\n",
       "    <tr>\n",
       "      <th>3</th>\n",
       "      <td>2018-01-26</td>\n",
       "      <td>09:56:06</td>\n",
       "      <td>slides/object_oriented_programming</td>\n",
       "      <td>1</td>\n",
       "      <td>8.0</td>\n",
       "      <td>97.105.19.61</td>\n",
       "    </tr>\n",
       "    <tr>\n",
       "      <th>4</th>\n",
       "      <td>2018-01-26</td>\n",
       "      <td>09:56:24</td>\n",
       "      <td>javascript-i/conditionals</td>\n",
       "      <td>2</td>\n",
       "      <td>22.0</td>\n",
       "      <td>97.105.19.61</td>\n",
       "    </tr>\n",
       "  </tbody>\n",
       "</table>\n",
       "</div>"
      ],
      "text/plain": [
       "            0         1                                    2  3     4  \\\n",
       "0  2018-01-26  09:55:03                                    /  1   8.0   \n",
       "1  2018-01-26  09:56:02                              java-ii  1   8.0   \n",
       "2  2018-01-26  09:56:05  java-ii/object-oriented-programming  1   8.0   \n",
       "3  2018-01-26  09:56:06   slides/object_oriented_programming  1   8.0   \n",
       "4  2018-01-26  09:56:24            javascript-i/conditionals  2  22.0   \n",
       "\n",
       "              5  \n",
       "0  97.105.19.61  \n",
       "1  97.105.19.61  \n",
       "2  97.105.19.61  \n",
       "3  97.105.19.61  \n",
       "4  97.105.19.61  "
      ]
     },
     "execution_count": 3,
     "metadata": {},
     "output_type": "execute_result"
    }
   ],
   "source": [
    "data.head()"
   ]
  },
  {
   "cell_type": "code",
   "execution_count": 4,
   "metadata": {},
   "outputs": [],
   "source": [
    "df = pd.read_fwf('anonymized-curriculum-access.txt')"
   ]
  },
  {
   "cell_type": "code",
   "execution_count": 5,
   "metadata": {},
   "outputs": [],
   "source": [
    "data['date'] = data[0] + ' ' + data[1]"
   ]
  },
  {
   "cell_type": "code",
   "execution_count": 6,
   "metadata": {},
   "outputs": [
    {
     "data": {
      "text/html": [
       "<div>\n",
       "<style scoped>\n",
       "    .dataframe tbody tr th:only-of-type {\n",
       "        vertical-align: middle;\n",
       "    }\n",
       "\n",
       "    .dataframe tbody tr th {\n",
       "        vertical-align: top;\n",
       "    }\n",
       "\n",
       "    .dataframe thead th {\n",
       "        text-align: right;\n",
       "    }\n",
       "</style>\n",
       "<table border=\"1\" class=\"dataframe\">\n",
       "  <thead>\n",
       "    <tr style=\"text-align: right;\">\n",
       "      <th></th>\n",
       "      <th>2018-01-26</th>\n",
       "      <th>09:55:03</th>\n",
       "      <th>/ 1 8 97.105.19.61</th>\n",
       "      <th>Unnamed: 3</th>\n",
       "    </tr>\n",
       "  </thead>\n",
       "  <tbody>\n",
       "    <tr>\n",
       "      <th>0</th>\n",
       "      <td>2018-01-26</td>\n",
       "      <td>09:56:02</td>\n",
       "      <td>java-ii 1 8 97.105.19.61</td>\n",
       "      <td>NaN</td>\n",
       "    </tr>\n",
       "    <tr>\n",
       "      <th>1</th>\n",
       "      <td>2018-01-26</td>\n",
       "      <td>09:56:05</td>\n",
       "      <td>java-ii/object-oriented-programming 1 8 97.105...</td>\n",
       "      <td>NaN</td>\n",
       "    </tr>\n",
       "    <tr>\n",
       "      <th>2</th>\n",
       "      <td>2018-01-26</td>\n",
       "      <td>09:56:06</td>\n",
       "      <td>slides/object_oriented_programming 1 8 97.105....</td>\n",
       "      <td>NaN</td>\n",
       "    </tr>\n",
       "    <tr>\n",
       "      <th>3</th>\n",
       "      <td>2018-01-26</td>\n",
       "      <td>09:56:24</td>\n",
       "      <td>javascript-i/conditionals 2 22 97.105.19.61</td>\n",
       "      <td>NaN</td>\n",
       "    </tr>\n",
       "    <tr>\n",
       "      <th>4</th>\n",
       "      <td>2018-01-26</td>\n",
       "      <td>09:56:41</td>\n",
       "      <td>javascript-i/loops 2 22 97.105.19.61</td>\n",
       "      <td>NaN</td>\n",
       "    </tr>\n",
       "  </tbody>\n",
       "</table>\n",
       "</div>"
      ],
      "text/plain": [
       "   2018-01-26  09:55:03                                 / 1 8 97.105.19.61  \\\n",
       "0  2018-01-26  09:56:02                           java-ii 1 8 97.105.19.61   \n",
       "1  2018-01-26  09:56:05  java-ii/object-oriented-programming 1 8 97.105...   \n",
       "2  2018-01-26  09:56:06  slides/object_oriented_programming 1 8 97.105....   \n",
       "3  2018-01-26  09:56:24        javascript-i/conditionals 2 22 97.105.19.61   \n",
       "4  2018-01-26  09:56:41               javascript-i/loops 2 22 97.105.19.61   \n",
       "\n",
       "  Unnamed: 3  \n",
       "0        NaN  \n",
       "1        NaN  \n",
       "2        NaN  \n",
       "3        NaN  \n",
       "4        NaN  "
      ]
     },
     "execution_count": 6,
     "metadata": {},
     "output_type": "execute_result"
    }
   ],
   "source": [
    "df.head()"
   ]
  },
  {
   "cell_type": "code",
   "execution_count": 7,
   "metadata": {},
   "outputs": [],
   "source": [
    "data = data.drop(columns = [0,1])"
   ]
  },
  {
   "cell_type": "code",
   "execution_count": 8,
   "metadata": {},
   "outputs": [
    {
     "data": {
      "text/html": [
       "<div>\n",
       "<style scoped>\n",
       "    .dataframe tbody tr th:only-of-type {\n",
       "        vertical-align: middle;\n",
       "    }\n",
       "\n",
       "    .dataframe tbody tr th {\n",
       "        vertical-align: top;\n",
       "    }\n",
       "\n",
       "    .dataframe thead th {\n",
       "        text-align: right;\n",
       "    }\n",
       "</style>\n",
       "<table border=\"1\" class=\"dataframe\">\n",
       "  <thead>\n",
       "    <tr style=\"text-align: right;\">\n",
       "      <th></th>\n",
       "      <th>2</th>\n",
       "      <th>3</th>\n",
       "      <th>4</th>\n",
       "      <th>5</th>\n",
       "      <th>date</th>\n",
       "    </tr>\n",
       "  </thead>\n",
       "  <tbody>\n",
       "    <tr>\n",
       "      <th>0</th>\n",
       "      <td>/</td>\n",
       "      <td>1</td>\n",
       "      <td>8.0</td>\n",
       "      <td>97.105.19.61</td>\n",
       "      <td>2018-01-26 09:55:03</td>\n",
       "    </tr>\n",
       "    <tr>\n",
       "      <th>1</th>\n",
       "      <td>java-ii</td>\n",
       "      <td>1</td>\n",
       "      <td>8.0</td>\n",
       "      <td>97.105.19.61</td>\n",
       "      <td>2018-01-26 09:56:02</td>\n",
       "    </tr>\n",
       "    <tr>\n",
       "      <th>2</th>\n",
       "      <td>java-ii/object-oriented-programming</td>\n",
       "      <td>1</td>\n",
       "      <td>8.0</td>\n",
       "      <td>97.105.19.61</td>\n",
       "      <td>2018-01-26 09:56:05</td>\n",
       "    </tr>\n",
       "    <tr>\n",
       "      <th>3</th>\n",
       "      <td>slides/object_oriented_programming</td>\n",
       "      <td>1</td>\n",
       "      <td>8.0</td>\n",
       "      <td>97.105.19.61</td>\n",
       "      <td>2018-01-26 09:56:06</td>\n",
       "    </tr>\n",
       "    <tr>\n",
       "      <th>4</th>\n",
       "      <td>javascript-i/conditionals</td>\n",
       "      <td>2</td>\n",
       "      <td>22.0</td>\n",
       "      <td>97.105.19.61</td>\n",
       "      <td>2018-01-26 09:56:24</td>\n",
       "    </tr>\n",
       "  </tbody>\n",
       "</table>\n",
       "</div>"
      ],
      "text/plain": [
       "                                     2  3     4             5  \\\n",
       "0                                    /  1   8.0  97.105.19.61   \n",
       "1                              java-ii  1   8.0  97.105.19.61   \n",
       "2  java-ii/object-oriented-programming  1   8.0  97.105.19.61   \n",
       "3   slides/object_oriented_programming  1   8.0  97.105.19.61   \n",
       "4            javascript-i/conditionals  2  22.0  97.105.19.61   \n",
       "\n",
       "                  date  \n",
       "0  2018-01-26 09:55:03  \n",
       "1  2018-01-26 09:56:02  \n",
       "2  2018-01-26 09:56:05  \n",
       "3  2018-01-26 09:56:06  \n",
       "4  2018-01-26 09:56:24  "
      ]
     },
     "execution_count": 8,
     "metadata": {},
     "output_type": "execute_result"
    }
   ],
   "source": [
    "data.head()"
   ]
  },
  {
   "cell_type": "code",
   "execution_count": 9,
   "metadata": {},
   "outputs": [],
   "source": [
    "data = data.rename(columns={2: \"page\", 3:'user_id', 4:'cohort_id', 5:'ip'})"
   ]
  },
  {
   "cell_type": "code",
   "execution_count": 10,
   "metadata": {},
   "outputs": [
    {
     "data": {
      "text/html": [
       "<div>\n",
       "<style scoped>\n",
       "    .dataframe tbody tr th:only-of-type {\n",
       "        vertical-align: middle;\n",
       "    }\n",
       "\n",
       "    .dataframe tbody tr th {\n",
       "        vertical-align: top;\n",
       "    }\n",
       "\n",
       "    .dataframe thead th {\n",
       "        text-align: right;\n",
       "    }\n",
       "</style>\n",
       "<table border=\"1\" class=\"dataframe\">\n",
       "  <thead>\n",
       "    <tr style=\"text-align: right;\">\n",
       "      <th></th>\n",
       "      <th>page</th>\n",
       "      <th>user_id</th>\n",
       "      <th>cohort_id</th>\n",
       "      <th>ip</th>\n",
       "      <th>date</th>\n",
       "    </tr>\n",
       "  </thead>\n",
       "  <tbody>\n",
       "    <tr>\n",
       "      <th>0</th>\n",
       "      <td>/</td>\n",
       "      <td>1</td>\n",
       "      <td>8.0</td>\n",
       "      <td>97.105.19.61</td>\n",
       "      <td>2018-01-26 09:55:03</td>\n",
       "    </tr>\n",
       "    <tr>\n",
       "      <th>1</th>\n",
       "      <td>java-ii</td>\n",
       "      <td>1</td>\n",
       "      <td>8.0</td>\n",
       "      <td>97.105.19.61</td>\n",
       "      <td>2018-01-26 09:56:02</td>\n",
       "    </tr>\n",
       "    <tr>\n",
       "      <th>2</th>\n",
       "      <td>java-ii/object-oriented-programming</td>\n",
       "      <td>1</td>\n",
       "      <td>8.0</td>\n",
       "      <td>97.105.19.61</td>\n",
       "      <td>2018-01-26 09:56:05</td>\n",
       "    </tr>\n",
       "    <tr>\n",
       "      <th>3</th>\n",
       "      <td>slides/object_oriented_programming</td>\n",
       "      <td>1</td>\n",
       "      <td>8.0</td>\n",
       "      <td>97.105.19.61</td>\n",
       "      <td>2018-01-26 09:56:06</td>\n",
       "    </tr>\n",
       "    <tr>\n",
       "      <th>4</th>\n",
       "      <td>javascript-i/conditionals</td>\n",
       "      <td>2</td>\n",
       "      <td>22.0</td>\n",
       "      <td>97.105.19.61</td>\n",
       "      <td>2018-01-26 09:56:24</td>\n",
       "    </tr>\n",
       "  </tbody>\n",
       "</table>\n",
       "</div>"
      ],
      "text/plain": [
       "                                  page  user_id  cohort_id            ip  \\\n",
       "0                                    /        1        8.0  97.105.19.61   \n",
       "1                              java-ii        1        8.0  97.105.19.61   \n",
       "2  java-ii/object-oriented-programming        1        8.0  97.105.19.61   \n",
       "3   slides/object_oriented_programming        1        8.0  97.105.19.61   \n",
       "4            javascript-i/conditionals        2       22.0  97.105.19.61   \n",
       "\n",
       "                  date  \n",
       "0  2018-01-26 09:55:03  \n",
       "1  2018-01-26 09:56:02  \n",
       "2  2018-01-26 09:56:05  \n",
       "3  2018-01-26 09:56:06  \n",
       "4  2018-01-26 09:56:24  "
      ]
     },
     "execution_count": 10,
     "metadata": {},
     "output_type": "execute_result"
    }
   ],
   "source": [
    "data.head()"
   ]
  },
  {
   "cell_type": "code",
   "execution_count": 11,
   "metadata": {},
   "outputs": [],
   "source": [
    "data.date = pd.to_datetime(data.date)\n",
    "df = data.set_index('date')"
   ]
  },
  {
   "cell_type": "code",
   "execution_count": 12,
   "metadata": {},
   "outputs": [
    {
     "data": {
      "text/plain": [
       "page                             user_id  cohort_id  ip            \n",
       "/                                11       28.0       97.105.19.58      571\n",
       "index.html                       53       14.0       97.105.19.58      501\n",
       "toc                              632      57.0       136.50.74.48      377\n",
       "index.html                       53       28.0       67.10.174.56      351\n",
       "/                                1        28.0       97.105.19.58      345\n",
       "                                                                      ... \n",
       "java-iii/jdbc                    634      57.0       104.190.242.24      1\n",
       "                                 637      57.0       192.119.10.210      1\n",
       "                                 648      56.0       76.187.53.87        1\n",
       "                                 656      58.0       24.9.177.142        1\n",
       "%20https://github.com/RaulCPena  580      55.0       74.192.167.159      1\n",
       "Length: 148229, dtype: int64"
      ]
     },
     "execution_count": 12,
     "metadata": {},
     "output_type": "execute_result"
    }
   ],
   "source": [
    "df.value_counts()"
   ]
  },
  {
   "cell_type": "code",
   "execution_count": 13,
   "metadata": {},
   "outputs": [
    {
     "data": {
      "text/plain": [
       "4339"
      ]
     },
     "execution_count": 13,
     "metadata": {},
     "output_type": "execute_result"
    }
   ],
   "source": [
    "len(df.ip.value_counts())"
   ]
  },
  {
   "cell_type": "code",
   "execution_count": 14,
   "metadata": {},
   "outputs": [
    {
     "data": {
      "text/plain": [
       "40"
      ]
     },
     "execution_count": 14,
     "metadata": {},
     "output_type": "execute_result"
    }
   ],
   "source": [
    "len(df.cohort_id.value_counts())"
   ]
  },
  {
   "cell_type": "code",
   "execution_count": 15,
   "metadata": {},
   "outputs": [
    {
     "data": {
      "text/plain": [
       "787"
      ]
     },
     "execution_count": 15,
     "metadata": {},
     "output_type": "execute_result"
    }
   ],
   "source": [
    "len(df.user_id.value_counts())"
   ]
  },
  {
   "cell_type": "code",
   "execution_count": 16,
   "metadata": {},
   "outputs": [
    {
     "data": {
      "text/html": [
       "<div>\n",
       "<style scoped>\n",
       "    .dataframe tbody tr th:only-of-type {\n",
       "        vertical-align: middle;\n",
       "    }\n",
       "\n",
       "    .dataframe tbody tr th {\n",
       "        vertical-align: top;\n",
       "    }\n",
       "\n",
       "    .dataframe thead th {\n",
       "        text-align: right;\n",
       "    }\n",
       "</style>\n",
       "<table border=\"1\" class=\"dataframe\">\n",
       "  <thead>\n",
       "    <tr style=\"text-align: right;\">\n",
       "      <th></th>\n",
       "      <th></th>\n",
       "      <th>page</th>\n",
       "      <th>cohort_id</th>\n",
       "    </tr>\n",
       "    <tr>\n",
       "      <th>user_id</th>\n",
       "      <th>ip</th>\n",
       "      <th></th>\n",
       "      <th></th>\n",
       "    </tr>\n",
       "  </thead>\n",
       "  <tbody>\n",
       "    <tr>\n",
       "      <th rowspan=\"5\" valign=\"top\">1</th>\n",
       "      <th>12.5.63.210</th>\n",
       "      <td>6</td>\n",
       "      <td>6</td>\n",
       "    </tr>\n",
       "    <tr>\n",
       "      <th>172.56.15.15</th>\n",
       "      <td>8</td>\n",
       "      <td>8</td>\n",
       "    </tr>\n",
       "    <tr>\n",
       "      <th>172.56.15.203</th>\n",
       "      <td>3</td>\n",
       "      <td>3</td>\n",
       "    </tr>\n",
       "    <tr>\n",
       "      <th>172.56.15.46</th>\n",
       "      <td>1</td>\n",
       "      <td>1</td>\n",
       "    </tr>\n",
       "    <tr>\n",
       "      <th>172.56.15.50</th>\n",
       "      <td>2</td>\n",
       "      <td>2</td>\n",
       "    </tr>\n",
       "    <tr>\n",
       "      <th>...</th>\n",
       "      <th>...</th>\n",
       "      <td>...</td>\n",
       "      <td>...</td>\n",
       "    </tr>\n",
       "    <tr>\n",
       "      <th>784</th>\n",
       "      <th>99.43.143.116</th>\n",
       "      <td>93</td>\n",
       "      <td>93</td>\n",
       "    </tr>\n",
       "    <tr>\n",
       "      <th rowspan=\"2\" valign=\"top\">785</th>\n",
       "      <th>24.173.208.242</th>\n",
       "      <td>1</td>\n",
       "      <td>1</td>\n",
       "    </tr>\n",
       "    <tr>\n",
       "      <th>72.181.127.233</th>\n",
       "      <td>30</td>\n",
       "      <td>30</td>\n",
       "    </tr>\n",
       "    <tr>\n",
       "      <th>786</th>\n",
       "      <th>72.190.25.232</th>\n",
       "      <td>7</td>\n",
       "      <td>7</td>\n",
       "    </tr>\n",
       "    <tr>\n",
       "      <th>787</th>\n",
       "      <th>99.126.113.140</th>\n",
       "      <td>1</td>\n",
       "      <td>1</td>\n",
       "    </tr>\n",
       "  </tbody>\n",
       "</table>\n",
       "<p>6182 rows × 2 columns</p>\n",
       "</div>"
      ],
      "text/plain": [
       "                        page  cohort_id\n",
       "user_id ip                             \n",
       "1       12.5.63.210        6          6\n",
       "        172.56.15.15       8          8\n",
       "        172.56.15.203      3          3\n",
       "        172.56.15.46       1          1\n",
       "        172.56.15.50       2          2\n",
       "...                      ...        ...\n",
       "784     99.43.143.116     93         93\n",
       "785     24.173.208.242     1          1\n",
       "        72.181.127.233    30         30\n",
       "786     72.190.25.232      7          7\n",
       "787     99.126.113.140     1          1\n",
       "\n",
       "[6182 rows x 2 columns]"
      ]
     },
     "execution_count": 16,
     "metadata": {},
     "output_type": "execute_result"
    }
   ],
   "source": [
    "df.groupby(['user_id','ip']).count()"
   ]
  },
  {
   "cell_type": "code",
   "execution_count": 17,
   "metadata": {},
   "outputs": [
    {
     "data": {
      "text/html": [
       "<div>\n",
       "<style scoped>\n",
       "    .dataframe tbody tr th:only-of-type {\n",
       "        vertical-align: middle;\n",
       "    }\n",
       "\n",
       "    .dataframe tbody tr th {\n",
       "        vertical-align: top;\n",
       "    }\n",
       "\n",
       "    .dataframe thead th {\n",
       "        text-align: right;\n",
       "    }\n",
       "</style>\n",
       "<table border=\"1\" class=\"dataframe\">\n",
       "  <thead>\n",
       "    <tr style=\"text-align: right;\">\n",
       "      <th></th>\n",
       "      <th></th>\n",
       "      <th>page</th>\n",
       "      <th>user_id</th>\n",
       "    </tr>\n",
       "    <tr>\n",
       "      <th>cohort_id</th>\n",
       "      <th>ip</th>\n",
       "      <th></th>\n",
       "      <th></th>\n",
       "    </tr>\n",
       "  </thead>\n",
       "  <tbody>\n",
       "    <tr>\n",
       "      <th rowspan=\"5\" valign=\"top\">1.0</th>\n",
       "      <th>107.204.49.22</th>\n",
       "      <td>1</td>\n",
       "      <td>1</td>\n",
       "    </tr>\n",
       "    <tr>\n",
       "      <th>107.77.196.213</th>\n",
       "      <td>9</td>\n",
       "      <td>9</td>\n",
       "    </tr>\n",
       "    <tr>\n",
       "      <th>107.77.217.196</th>\n",
       "      <td>3</td>\n",
       "      <td>3</td>\n",
       "    </tr>\n",
       "    <tr>\n",
       "      <th>107.77.217.65</th>\n",
       "      <td>7</td>\n",
       "      <td>7</td>\n",
       "    </tr>\n",
       "    <tr>\n",
       "      <th>107.77.220.6</th>\n",
       "      <td>1</td>\n",
       "      <td>1</td>\n",
       "    </tr>\n",
       "    <tr>\n",
       "      <th>...</th>\n",
       "      <th>...</th>\n",
       "      <td>...</td>\n",
       "      <td>...</td>\n",
       "    </tr>\n",
       "    <tr>\n",
       "      <th rowspan=\"5\" valign=\"top\">62.0</th>\n",
       "      <th>98.199.170.30</th>\n",
       "      <td>2</td>\n",
       "      <td>2</td>\n",
       "    </tr>\n",
       "    <tr>\n",
       "      <th>98.39.66.72</th>\n",
       "      <td>24</td>\n",
       "      <td>24</td>\n",
       "    </tr>\n",
       "    <tr>\n",
       "      <th>99.151.201.25</th>\n",
       "      <td>254</td>\n",
       "      <td>254</td>\n",
       "    </tr>\n",
       "    <tr>\n",
       "      <th>99.162.243.68</th>\n",
       "      <td>126</td>\n",
       "      <td>126</td>\n",
       "    </tr>\n",
       "    <tr>\n",
       "      <th>99.5.223.96</th>\n",
       "      <td>4</td>\n",
       "      <td>4</td>\n",
       "    </tr>\n",
       "  </tbody>\n",
       "</table>\n",
       "<p>4605 rows × 2 columns</p>\n",
       "</div>"
      ],
      "text/plain": [
       "                          page  user_id\n",
       "cohort_id ip                           \n",
       "1.0       107.204.49.22      1        1\n",
       "          107.77.196.213     9        9\n",
       "          107.77.217.196     3        3\n",
       "          107.77.217.65      7        7\n",
       "          107.77.220.6       1        1\n",
       "...                        ...      ...\n",
       "62.0      98.199.170.30      2        2\n",
       "          98.39.66.72       24       24\n",
       "          99.151.201.25    254      254\n",
       "          99.162.243.68    126      126\n",
       "          99.5.223.96        4        4\n",
       "\n",
       "[4605 rows x 2 columns]"
      ]
     },
     "execution_count": 17,
     "metadata": {},
     "output_type": "execute_result"
    }
   ],
   "source": [
    "df.groupby(['cohort_id','ip']).count()"
   ]
  },
  {
   "cell_type": "code",
   "execution_count": 18,
   "metadata": {},
   "outputs": [
    {
     "data": {
      "text/html": [
       "<div>\n",
       "<style scoped>\n",
       "    .dataframe tbody tr th:only-of-type {\n",
       "        vertical-align: middle;\n",
       "    }\n",
       "\n",
       "    .dataframe tbody tr th {\n",
       "        vertical-align: top;\n",
       "    }\n",
       "\n",
       "    .dataframe thead th {\n",
       "        text-align: right;\n",
       "    }\n",
       "</style>\n",
       "<table border=\"1\" class=\"dataframe\">\n",
       "  <thead>\n",
       "    <tr style=\"text-align: right;\">\n",
       "      <th></th>\n",
       "      <th></th>\n",
       "      <th>user_id</th>\n",
       "      <th>cohort_id</th>\n",
       "    </tr>\n",
       "    <tr>\n",
       "      <th>page</th>\n",
       "      <th>ip</th>\n",
       "      <th></th>\n",
       "      <th></th>\n",
       "    </tr>\n",
       "  </thead>\n",
       "  <tbody>\n",
       "    <tr>\n",
       "      <th>%20https://github.com/RaulCPena</th>\n",
       "      <th>74.192.167.159</th>\n",
       "      <td>1</td>\n",
       "      <td>1</td>\n",
       "    </tr>\n",
       "    <tr>\n",
       "      <th>,%20https://github.com/RaulCPena</th>\n",
       "      <th>74.192.167.159</th>\n",
       "      <td>1</td>\n",
       "      <td>1</td>\n",
       "    </tr>\n",
       "    <tr>\n",
       "      <th>.git</th>\n",
       "      <th>72.178.123.71</th>\n",
       "      <td>1</td>\n",
       "      <td>1</td>\n",
       "    </tr>\n",
       "    <tr>\n",
       "      <th>.gitignore</th>\n",
       "      <th>72.178.123.71</th>\n",
       "      <td>1</td>\n",
       "      <td>1</td>\n",
       "    </tr>\n",
       "    <tr>\n",
       "      <th>.well-known/assetlinks.json</th>\n",
       "      <th>70.240.251.44</th>\n",
       "      <td>2</td>\n",
       "      <td>2</td>\n",
       "    </tr>\n",
       "    <tr>\n",
       "      <th>...</th>\n",
       "      <th>...</th>\n",
       "      <td>...</td>\n",
       "      <td>...</td>\n",
       "    </tr>\n",
       "    <tr>\n",
       "      <th rowspan=\"3\" valign=\"top\">working-with-time-series-data</th>\n",
       "      <th>72.181.127.233</th>\n",
       "      <td>4</td>\n",
       "      <td>4</td>\n",
       "    </tr>\n",
       "    <tr>\n",
       "      <th>75.1.166.163</th>\n",
       "      <td>1</td>\n",
       "      <td>1</td>\n",
       "    </tr>\n",
       "    <tr>\n",
       "      <th>96.8.130.213</th>\n",
       "      <td>2</td>\n",
       "      <td>2</td>\n",
       "    </tr>\n",
       "    <tr>\n",
       "      <th>wp-admin</th>\n",
       "      <th>70.121.163.5</th>\n",
       "      <td>1</td>\n",
       "      <td>1</td>\n",
       "    </tr>\n",
       "    <tr>\n",
       "      <th>wp-login</th>\n",
       "      <th>70.121.163.5</th>\n",
       "      <td>1</td>\n",
       "      <td>1</td>\n",
       "    </tr>\n",
       "  </tbody>\n",
       "</table>\n",
       "<p>90364 rows × 2 columns</p>\n",
       "</div>"
      ],
      "text/plain": [
       "                                                 user_id  cohort_id\n",
       "page                             ip                                \n",
       "%20https://github.com/RaulCPena  74.192.167.159        1          1\n",
       ",%20https://github.com/RaulCPena 74.192.167.159        1          1\n",
       ".git                             72.178.123.71         1          1\n",
       ".gitignore                       72.178.123.71         1          1\n",
       ".well-known/assetlinks.json      70.240.251.44         2          2\n",
       "...                                                  ...        ...\n",
       "working-with-time-series-data    72.181.127.233        4          4\n",
       "                                 75.1.166.163          1          1\n",
       "                                 96.8.130.213          2          2\n",
       "wp-admin                         70.121.163.5          1          1\n",
       "wp-login                         70.121.163.5          1          1\n",
       "\n",
       "[90364 rows x 2 columns]"
      ]
     },
     "execution_count": 18,
     "metadata": {},
     "output_type": "execute_result"
    }
   ],
   "source": [
    "df.groupby(['page','ip']).count()"
   ]
  },
  {
   "cell_type": "code",
   "execution_count": 19,
   "metadata": {},
   "outputs": [
    {
     "data": {
      "text/html": [
       "<div>\n",
       "<style scoped>\n",
       "    .dataframe tbody tr th:only-of-type {\n",
       "        vertical-align: middle;\n",
       "    }\n",
       "\n",
       "    .dataframe tbody tr th {\n",
       "        vertical-align: top;\n",
       "    }\n",
       "\n",
       "    .dataframe thead th {\n",
       "        text-align: right;\n",
       "    }\n",
       "</style>\n",
       "<table border=\"1\" class=\"dataframe\">\n",
       "  <thead>\n",
       "    <tr style=\"text-align: right;\">\n",
       "      <th></th>\n",
       "      <th></th>\n",
       "      <th>user_id</th>\n",
       "      <th>ip</th>\n",
       "    </tr>\n",
       "    <tr>\n",
       "      <th>page</th>\n",
       "      <th>cohort_id</th>\n",
       "      <th></th>\n",
       "      <th></th>\n",
       "    </tr>\n",
       "  </thead>\n",
       "  <tbody>\n",
       "    <tr>\n",
       "      <th>%20https://github.com/RaulCPena</th>\n",
       "      <th>55.0</th>\n",
       "      <td>1</td>\n",
       "      <td>1</td>\n",
       "    </tr>\n",
       "    <tr>\n",
       "      <th>,%20https://github.com/RaulCPena</th>\n",
       "      <th>55.0</th>\n",
       "      <td>1</td>\n",
       "      <td>1</td>\n",
       "    </tr>\n",
       "    <tr>\n",
       "      <th>.git</th>\n",
       "      <th>24.0</th>\n",
       "      <td>1</td>\n",
       "      <td>1</td>\n",
       "    </tr>\n",
       "    <tr>\n",
       "      <th>.gitignore</th>\n",
       "      <th>24.0</th>\n",
       "      <td>1</td>\n",
       "      <td>1</td>\n",
       "    </tr>\n",
       "    <tr>\n",
       "      <th>.well-known/assetlinks.json</th>\n",
       "      <th>58.0</th>\n",
       "      <td>2</td>\n",
       "      <td>2</td>\n",
       "    </tr>\n",
       "    <tr>\n",
       "      <th>...</th>\n",
       "      <th>...</th>\n",
       "      <td>...</td>\n",
       "      <td>...</td>\n",
       "    </tr>\n",
       "    <tr>\n",
       "      <th>web-dev-day-two</th>\n",
       "      <th>61.0</th>\n",
       "      <td>2</td>\n",
       "      <td>2</td>\n",
       "    </tr>\n",
       "    <tr>\n",
       "      <th rowspan=\"2\" valign=\"top\">working-with-time-series-data</th>\n",
       "      <th>28.0</th>\n",
       "      <td>1</td>\n",
       "      <td>1</td>\n",
       "    </tr>\n",
       "    <tr>\n",
       "      <th>59.0</th>\n",
       "      <td>14</td>\n",
       "      <td>14</td>\n",
       "    </tr>\n",
       "    <tr>\n",
       "      <th>wp-admin</th>\n",
       "      <th>22.0</th>\n",
       "      <td>1</td>\n",
       "      <td>1</td>\n",
       "    </tr>\n",
       "    <tr>\n",
       "      <th>wp-login</th>\n",
       "      <th>22.0</th>\n",
       "      <td>1</td>\n",
       "      <td>1</td>\n",
       "    </tr>\n",
       "  </tbody>\n",
       "</table>\n",
       "<p>11780 rows × 2 columns</p>\n",
       "</div>"
      ],
      "text/plain": [
       "                                            user_id  ip\n",
       "page                             cohort_id             \n",
       "%20https://github.com/RaulCPena  55.0             1   1\n",
       ",%20https://github.com/RaulCPena 55.0             1   1\n",
       ".git                             24.0             1   1\n",
       ".gitignore                       24.0             1   1\n",
       ".well-known/assetlinks.json      58.0             2   2\n",
       "...                                             ...  ..\n",
       "web-dev-day-two                  61.0             2   2\n",
       "working-with-time-series-data    28.0             1   1\n",
       "                                 59.0            14  14\n",
       "wp-admin                         22.0             1   1\n",
       "wp-login                         22.0             1   1\n",
       "\n",
       "[11780 rows x 2 columns]"
      ]
     },
     "execution_count": 19,
     "metadata": {},
     "output_type": "execute_result"
    }
   ],
   "source": [
    "df.groupby(['page','cohort_id']).count()"
   ]
  },
  {
   "cell_type": "code",
   "execution_count": 20,
   "metadata": {},
   "outputs": [
    {
     "data": {
      "text/html": [
       "<div>\n",
       "<style scoped>\n",
       "    .dataframe tbody tr th:only-of-type {\n",
       "        vertical-align: middle;\n",
       "    }\n",
       "\n",
       "    .dataframe tbody tr th {\n",
       "        vertical-align: top;\n",
       "    }\n",
       "\n",
       "    .dataframe thead th {\n",
       "        text-align: right;\n",
       "    }\n",
       "</style>\n",
       "<table border=\"1\" class=\"dataframe\">\n",
       "  <thead>\n",
       "    <tr style=\"text-align: right;\">\n",
       "      <th></th>\n",
       "      <th>page</th>\n",
       "      <th>user_id</th>\n",
       "      <th>cohort_id</th>\n",
       "      <th>ip</th>\n",
       "    </tr>\n",
       "    <tr>\n",
       "      <th>date</th>\n",
       "      <th></th>\n",
       "      <th></th>\n",
       "      <th></th>\n",
       "      <th></th>\n",
       "    </tr>\n",
       "  </thead>\n",
       "  <tbody>\n",
       "    <tr>\n",
       "      <th>2018-01-26 09:55:03</th>\n",
       "      <td>/</td>\n",
       "      <td>1</td>\n",
       "      <td>8.0</td>\n",
       "      <td>97.105.19.61</td>\n",
       "    </tr>\n",
       "    <tr>\n",
       "      <th>2018-01-26 09:56:02</th>\n",
       "      <td>java-ii</td>\n",
       "      <td>1</td>\n",
       "      <td>8.0</td>\n",
       "      <td>97.105.19.61</td>\n",
       "    </tr>\n",
       "    <tr>\n",
       "      <th>2018-01-26 09:56:05</th>\n",
       "      <td>java-ii/object-oriented-programming</td>\n",
       "      <td>1</td>\n",
       "      <td>8.0</td>\n",
       "      <td>97.105.19.61</td>\n",
       "    </tr>\n",
       "    <tr>\n",
       "      <th>2018-01-26 09:56:06</th>\n",
       "      <td>slides/object_oriented_programming</td>\n",
       "      <td>1</td>\n",
       "      <td>8.0</td>\n",
       "      <td>97.105.19.61</td>\n",
       "    </tr>\n",
       "    <tr>\n",
       "      <th>2018-01-26 09:56:24</th>\n",
       "      <td>javascript-i/conditionals</td>\n",
       "      <td>2</td>\n",
       "      <td>22.0</td>\n",
       "      <td>97.105.19.61</td>\n",
       "    </tr>\n",
       "  </tbody>\n",
       "</table>\n",
       "</div>"
      ],
      "text/plain": [
       "                                                    page  user_id  cohort_id  \\\n",
       "date                                                                           \n",
       "2018-01-26 09:55:03                                    /        1        8.0   \n",
       "2018-01-26 09:56:02                              java-ii        1        8.0   \n",
       "2018-01-26 09:56:05  java-ii/object-oriented-programming        1        8.0   \n",
       "2018-01-26 09:56:06   slides/object_oriented_programming        1        8.0   \n",
       "2018-01-26 09:56:24            javascript-i/conditionals        2       22.0   \n",
       "\n",
       "                               ip  \n",
       "date                               \n",
       "2018-01-26 09:55:03  97.105.19.61  \n",
       "2018-01-26 09:56:02  97.105.19.61  \n",
       "2018-01-26 09:56:05  97.105.19.61  \n",
       "2018-01-26 09:56:06  97.105.19.61  \n",
       "2018-01-26 09:56:24  97.105.19.61  "
      ]
     },
     "execution_count": 20,
     "metadata": {},
     "output_type": "execute_result"
    }
   ],
   "source": [
    "df.head()"
   ]
  },
  {
   "cell_type": "code",
   "execution_count": 21,
   "metadata": {},
   "outputs": [],
   "source": [
    "cohort_df = df.drop(columns = ['user_id','ip'])"
   ]
  },
  {
   "cell_type": "code",
   "execution_count": 22,
   "metadata": {},
   "outputs": [
    {
     "data": {
      "text/html": [
       "<div>\n",
       "<style scoped>\n",
       "    .dataframe tbody tr th:only-of-type {\n",
       "        vertical-align: middle;\n",
       "    }\n",
       "\n",
       "    .dataframe tbody tr th {\n",
       "        vertical-align: top;\n",
       "    }\n",
       "\n",
       "    .dataframe thead th {\n",
       "        text-align: right;\n",
       "    }\n",
       "</style>\n",
       "<table border=\"1\" class=\"dataframe\">\n",
       "  <thead>\n",
       "    <tr style=\"text-align: right;\">\n",
       "      <th></th>\n",
       "      <th>page</th>\n",
       "      <th>cohort_id</th>\n",
       "    </tr>\n",
       "    <tr>\n",
       "      <th>date</th>\n",
       "      <th></th>\n",
       "      <th></th>\n",
       "    </tr>\n",
       "  </thead>\n",
       "  <tbody>\n",
       "    <tr>\n",
       "      <th>2018-01-26 09:55:03</th>\n",
       "      <td>/</td>\n",
       "      <td>8.0</td>\n",
       "    </tr>\n",
       "    <tr>\n",
       "      <th>2018-01-26 09:56:02</th>\n",
       "      <td>java-ii</td>\n",
       "      <td>8.0</td>\n",
       "    </tr>\n",
       "    <tr>\n",
       "      <th>2018-01-26 09:56:05</th>\n",
       "      <td>java-ii/object-oriented-programming</td>\n",
       "      <td>8.0</td>\n",
       "    </tr>\n",
       "    <tr>\n",
       "      <th>2018-01-26 09:56:06</th>\n",
       "      <td>slides/object_oriented_programming</td>\n",
       "      <td>8.0</td>\n",
       "    </tr>\n",
       "    <tr>\n",
       "      <th>2018-01-26 09:56:24</th>\n",
       "      <td>javascript-i/conditionals</td>\n",
       "      <td>22.0</td>\n",
       "    </tr>\n",
       "  </tbody>\n",
       "</table>\n",
       "</div>"
      ],
      "text/plain": [
       "                                                    page  cohort_id\n",
       "date                                                               \n",
       "2018-01-26 09:55:03                                    /        8.0\n",
       "2018-01-26 09:56:02                              java-ii        8.0\n",
       "2018-01-26 09:56:05  java-ii/object-oriented-programming        8.0\n",
       "2018-01-26 09:56:06   slides/object_oriented_programming        8.0\n",
       "2018-01-26 09:56:24            javascript-i/conditionals       22.0"
      ]
     },
     "execution_count": 22,
     "metadata": {},
     "output_type": "execute_result"
    }
   ],
   "source": [
    "cohort_df.head()"
   ]
  },
  {
   "cell_type": "code",
   "execution_count": 23,
   "metadata": {},
   "outputs": [
    {
     "data": {
      "text/plain": [
       "False    458828\n",
       "True     260630\n",
       "Name: page, dtype: int64"
      ]
     },
     "execution_count": 23,
     "metadata": {},
     "output_type": "execute_result"
    }
   ],
   "source": [
    "cohort_df.page.str.contains('java').value_counts()"
   ]
  },
  {
   "cell_type": "code",
   "execution_count": 24,
   "metadata": {},
   "outputs": [
    {
     "data": {
      "text/plain": [
       "2154"
      ]
     },
     "execution_count": 24,
     "metadata": {},
     "output_type": "execute_result"
    }
   ],
   "source": [
    "len(cohort_df.page.unique())"
   ]
  },
  {
   "cell_type": "code",
   "execution_count": 25,
   "metadata": {},
   "outputs": [
    {
     "data": {
      "text/plain": [
       "date\n",
       "2018-01-26 09:55:03    False\n",
       "2018-01-26 09:56:02    False\n",
       "2018-01-26 09:56:05    False\n",
       "2018-01-26 09:56:06    False\n",
       "2018-01-26 09:56:24    False\n",
       "                       ...  \n",
       "2020-11-02 16:48:13    False\n",
       "2020-11-02 16:48:17    False\n",
       "2020-11-02 16:48:18    False\n",
       "2020-11-02 16:48:28    False\n",
       "2020-11-02 16:48:47    False\n",
       "Name: page, Length: 719459, dtype: object"
      ]
     },
     "execution_count": 25,
     "metadata": {},
     "output_type": "execute_result"
    }
   ],
   "source": [
    "cohort_df.page.str.contains('classification')"
   ]
  },
  {
   "cell_type": "code",
   "execution_count": 26,
   "metadata": {},
   "outputs": [],
   "source": [
    "mask = df.page.str.contains('classification') | df.page.str.contains('regression') | df.page.str.contains('clustering') | df.page.str.contains('anomaly') | df.page.str.contains('data-science') | df.page.str.contains('python')"
   ]
  },
  {
   "cell_type": "code",
   "execution_count": 27,
   "metadata": {},
   "outputs": [
    {
     "data": {
      "text/plain": [
       "False    681945\n",
       "True      37514\n",
       "Name: page, dtype: int64"
      ]
     },
     "execution_count": 27,
     "metadata": {},
     "output_type": "execute_result"
    }
   ],
   "source": [
    "mask.value_counts()"
   ]
  },
  {
   "cell_type": "code",
   "execution_count": 28,
   "metadata": {},
   "outputs": [],
   "source": [
    "#df[df == mask]"
   ]
  },
  {
   "cell_type": "markdown",
   "metadata": {},
   "source": []
  },
  {
   "cell_type": "code",
   "execution_count": 29,
   "metadata": {},
   "outputs": [],
   "source": [
    "train = df[:'2019-12-31']\n",
    "validate = df['2020-01-01':'2020-06-01']\n",
    "test = df['2020-06-02':]"
   ]
  },
  {
   "cell_type": "code",
   "execution_count": 30,
   "metadata": {},
   "outputs": [
    {
     "data": {
      "image/png": "[encoded data removed]",
      "text/plain": [
       "<Figure size 864x576 with 1 Axes>"
      ]
     },
     "metadata": {
      "needs_background": "light"
     },
     "output_type": "display_data"
    }
   ],
   "source": [
    "plt.figure(figsize=(12, 8))\n",
    "plt.plot(train.cohort_id)\n",
    "plt.plot(validate.cohort_id)\n",
    "plt.plot(test.cohort_id)\n",
    "plt.show()"
   ]
  },
  {
   "cell_type": "code",
   "execution_count": 31,
   "metadata": {},
   "outputs": [
    {
     "data": {
      "image/png": "[encoded data removed]",
      "text/plain": [
       "<Figure size 864x576 with 1 Axes>"
      ]
     },
     "metadata": {
      "needs_background": "light"
     },
     "output_type": "display_data"
    }
   ],
   "source": [
    "plt.figure(figsize=(12, 8))\n",
    "plt.plot(train.user_id)\n",
    "plt.plot(validate.user_id)\n",
    "plt.plot(test.user_id)\n",
    "plt.show()"
   ]
  },
  {
   "cell_type": "code",
   "execution_count": 32,
   "metadata": {},
   "outputs": [
    {
     "data": {
      "text/html": [
       "<div>\n",
       "<style scoped>\n",
       "    .dataframe tbody tr th:only-of-type {\n",
       "        vertical-align: middle;\n",
       "    }\n",
       "\n",
       "    .dataframe tbody tr th {\n",
       "        vertical-align: top;\n",
       "    }\n",
       "\n",
       "    .dataframe thead th {\n",
       "        text-align: right;\n",
       "    }\n",
       "</style>\n",
       "<table border=\"1\" class=\"dataframe\">\n",
       "  <thead>\n",
       "    <tr style=\"text-align: right;\">\n",
       "      <th></th>\n",
       "      <th>user_id</th>\n",
       "      <th>cohort_id</th>\n",
       "    </tr>\n",
       "    <tr>\n",
       "      <th>date</th>\n",
       "      <th></th>\n",
       "      <th></th>\n",
       "    </tr>\n",
       "  </thead>\n",
       "  <tbody>\n",
       "    <tr>\n",
       "      <th>2018-01-26 09:55:03</th>\n",
       "      <td>NaN</td>\n",
       "      <td>NaN</td>\n",
       "    </tr>\n",
       "    <tr>\n",
       "      <th>2018-01-26 09:56:02</th>\n",
       "      <td>NaN</td>\n",
       "      <td>NaN</td>\n",
       "    </tr>\n",
       "    <tr>\n",
       "      <th>2018-01-26 09:56:05</th>\n",
       "      <td>NaN</td>\n",
       "      <td>NaN</td>\n",
       "    </tr>\n",
       "    <tr>\n",
       "      <th>2018-01-26 09:56:06</th>\n",
       "      <td>NaN</td>\n",
       "      <td>NaN</td>\n",
       "    </tr>\n",
       "    <tr>\n",
       "      <th>2018-01-26 09:56:24</th>\n",
       "      <td>NaN</td>\n",
       "      <td>NaN</td>\n",
       "    </tr>\n",
       "    <tr>\n",
       "      <th>...</th>\n",
       "      <td>...</td>\n",
       "      <td>...</td>\n",
       "    </tr>\n",
       "    <tr>\n",
       "      <th>2019-12-31 15:44:41</th>\n",
       "      <td>451.833333</td>\n",
       "      <td>31.666667</td>\n",
       "    </tr>\n",
       "    <tr>\n",
       "      <th>2019-12-31 15:44:41</th>\n",
       "      <td>454.500000</td>\n",
       "      <td>31.166667</td>\n",
       "    </tr>\n",
       "    <tr>\n",
       "      <th>2019-12-31 17:41:42</th>\n",
       "      <td>465.500000</td>\n",
       "      <td>32.583333</td>\n",
       "    </tr>\n",
       "    <tr>\n",
       "      <th>2019-12-31 17:41:44</th>\n",
       "      <td>476.500000</td>\n",
       "      <td>34.000000</td>\n",
       "    </tr>\n",
       "    <tr>\n",
       "      <th>2019-12-31 22:06:00</th>\n",
       "      <td>487.333333</td>\n",
       "      <td>35.416667</td>\n",
       "    </tr>\n",
       "  </tbody>\n",
       "</table>\n",
       "<p>421911 rows × 2 columns</p>\n",
       "</div>"
      ],
      "text/plain": [
       "                        user_id  cohort_id\n",
       "date                                      \n",
       "2018-01-26 09:55:03         NaN        NaN\n",
       "2018-01-26 09:56:02         NaN        NaN\n",
       "2018-01-26 09:56:05         NaN        NaN\n",
       "2018-01-26 09:56:06         NaN        NaN\n",
       "2018-01-26 09:56:24         NaN        NaN\n",
       "...                         ...        ...\n",
       "2019-12-31 15:44:41  451.833333  31.666667\n",
       "2019-12-31 15:44:41  454.500000  31.166667\n",
       "2019-12-31 17:41:42  465.500000  32.583333\n",
       "2019-12-31 17:41:44  476.500000  34.000000\n",
       "2019-12-31 22:06:00  487.333333  35.416667\n",
       "\n",
       "[421911 rows x 2 columns]"
      ]
     },
     "execution_count": 32,
     "metadata": {},
     "output_type": "execute_result"
    }
   ],
   "source": [
    "# Calculating the short-window simple moving average\n",
    "short_rolling = train.rolling(window=12).mean()\n",
    "\n",
    "# Calculating the long-window simple moving average\n",
    "long_rolling = train.rolling(window=24).mean()\n",
    "short_rolling"
   ]
  },
  {
   "cell_type": "markdown",
   "metadata": {},
   "source": [
    "### Looking at the pages accessed to see if maybe there is something that stands out"
   ]
  },
  {
   "cell_type": "code",
   "execution_count": 33,
   "metadata": {},
   "outputs": [
    {
     "data": {
      "text/plain": [
       "Text(0.5, 1.0, 'Total pages requested per day')"
      ]
     },
     "execution_count": 33,
     "metadata": {},
     "output_type": "execute_result"
    },
    {
     "data": {
      "image/png": "[encoded data removed]",
      "text/plain": [
       "<Figure size 864x576 with 1 Axes>"
      ]
     },
     "metadata": {
      "needs_background": "light"
     },
     "output_type": "display_data"
    }
   ],
   "source": [
    "df[\"2019\"].groupby(\"date\").page.count().resample(\"D\").sum().plot.line(figsize=(12, 8))\n",
    "plt.title(\"Total pages requested per day\")"
   ]
  },
  {
   "cell_type": "markdown",
   "metadata": {},
   "source": [
    "### Starting over, looking at cohort activity. "
   ]
  },
  {
   "cell_type": "code",
   "execution_count": 34,
   "metadata": {},
   "outputs": [],
   "source": [
    "df = df[df.cohort_id == 55]"
   ]
  },
  {
   "cell_type": "code",
   "execution_count": 35,
   "metadata": {},
   "outputs": [
    {
     "data": {
      "text/html": [
       "<div>\n",
       "<style scoped>\n",
       "    .dataframe tbody tr th:only-of-type {\n",
       "        vertical-align: middle;\n",
       "    }\n",
       "\n",
       "    .dataframe tbody tr th {\n",
       "        vertical-align: top;\n",
       "    }\n",
       "\n",
       "    .dataframe thead th {\n",
       "        text-align: right;\n",
       "    }\n",
       "</style>\n",
       "<table border=\"1\" class=\"dataframe\">\n",
       "  <thead>\n",
       "    <tr style=\"text-align: right;\">\n",
       "      <th></th>\n",
       "      <th>page</th>\n",
       "      <th>user_id</th>\n",
       "      <th>cohort_id</th>\n",
       "      <th>ip</th>\n",
       "    </tr>\n",
       "    <tr>\n",
       "      <th>date</th>\n",
       "      <th></th>\n",
       "      <th></th>\n",
       "      <th></th>\n",
       "      <th></th>\n",
       "    </tr>\n",
       "  </thead>\n",
       "  <tbody>\n",
       "    <tr>\n",
       "      <th>2020-02-03 15:39:34</th>\n",
       "      <td>login</td>\n",
       "      <td>575</td>\n",
       "      <td>55.0</td>\n",
       "      <td>97.105.19.58</td>\n",
       "    </tr>\n",
       "    <tr>\n",
       "      <th>2020-02-03 15:39:35</th>\n",
       "      <td>/</td>\n",
       "      <td>576</td>\n",
       "      <td>55.0</td>\n",
       "      <td>97.105.19.58</td>\n",
       "    </tr>\n",
       "    <tr>\n",
       "      <th>2020-02-03 15:39:37</th>\n",
       "      <td>/</td>\n",
       "      <td>577</td>\n",
       "      <td>55.0</td>\n",
       "      <td>97.105.19.58</td>\n",
       "    </tr>\n",
       "    <tr>\n",
       "      <th>2020-02-03 15:39:37</th>\n",
       "      <td>login</td>\n",
       "      <td>575</td>\n",
       "      <td>55.0</td>\n",
       "      <td>97.105.19.58</td>\n",
       "    </tr>\n",
       "    <tr>\n",
       "      <th>2020-02-03 15:39:43</th>\n",
       "      <td>/</td>\n",
       "      <td>578</td>\n",
       "      <td>55.0</td>\n",
       "      <td>97.105.19.58</td>\n",
       "    </tr>\n",
       "  </tbody>\n",
       "</table>\n",
       "</div>"
      ],
      "text/plain": [
       "                      page  user_id  cohort_id            ip\n",
       "date                                                        \n",
       "2020-02-03 15:39:34  login      575       55.0  97.105.19.58\n",
       "2020-02-03 15:39:35      /      576       55.0  97.105.19.58\n",
       "2020-02-03 15:39:37      /      577       55.0  97.105.19.58\n",
       "2020-02-03 15:39:37  login      575       55.0  97.105.19.58\n",
       "2020-02-03 15:39:43      /      578       55.0  97.105.19.58"
      ]
     },
     "execution_count": 35,
     "metadata": {},
     "output_type": "execute_result"
    }
   ],
   "source": [
    "df.head()"
   ]
  },
  {
   "cell_type": "code",
   "execution_count": 36,
   "metadata": {},
   "outputs": [
    {
     "data": {
      "text/html": [
       "<div>\n",
       "<style scoped>\n",
       "    .dataframe tbody tr th:only-of-type {\n",
       "        vertical-align: middle;\n",
       "    }\n",
       "\n",
       "    .dataframe tbody tr th {\n",
       "        vertical-align: top;\n",
       "    }\n",
       "\n",
       "    .dataframe thead th {\n",
       "        text-align: right;\n",
       "    }\n",
       "</style>\n",
       "<table border=\"1\" class=\"dataframe\">\n",
       "  <thead>\n",
       "    <tr style=\"text-align: right;\">\n",
       "      <th></th>\n",
       "      <th></th>\n",
       "      <th>user_id</th>\n",
       "      <th>cohort_id</th>\n",
       "    </tr>\n",
       "    <tr>\n",
       "      <th>page</th>\n",
       "      <th>ip</th>\n",
       "      <th></th>\n",
       "      <th></th>\n",
       "    </tr>\n",
       "  </thead>\n",
       "  <tbody>\n",
       "    <tr>\n",
       "      <th>%20https://github.com/RaulCPena</th>\n",
       "      <th>74.192.167.159</th>\n",
       "      <td>1</td>\n",
       "      <td>1</td>\n",
       "    </tr>\n",
       "    <tr>\n",
       "      <th>,%20https://github.com/RaulCPena</th>\n",
       "      <th>74.192.167.159</th>\n",
       "      <td>1</td>\n",
       "      <td>1</td>\n",
       "    </tr>\n",
       "    <tr>\n",
       "      <th rowspan=\"3\" valign=\"top\">/</th>\n",
       "      <th>104.190.137.203</th>\n",
       "      <td>5</td>\n",
       "      <td>5</td>\n",
       "    </tr>\n",
       "    <tr>\n",
       "      <th>104.5.217.57</th>\n",
       "      <td>50</td>\n",
       "      <td>50</td>\n",
       "    </tr>\n",
       "    <tr>\n",
       "      <th>107.136.101.76</th>\n",
       "      <td>1</td>\n",
       "      <td>1</td>\n",
       "    </tr>\n",
       "    <tr>\n",
       "      <th>...</th>\n",
       "      <th>...</th>\n",
       "      <td>...</td>\n",
       "      <td>...</td>\n",
       "    </tr>\n",
       "    <tr>\n",
       "      <th>timeseries/sarimax</th>\n",
       "      <th>70.112.179.142</th>\n",
       "      <td>2</td>\n",
       "      <td>2</td>\n",
       "    </tr>\n",
       "    <tr>\n",
       "      <th>timeseries/svr</th>\n",
       "      <th>70.112.179.142</th>\n",
       "      <td>1</td>\n",
       "      <td>1</td>\n",
       "    </tr>\n",
       "    <tr>\n",
       "      <th>timeseries/working-with-time-series-data</th>\n",
       "      <th>70.112.179.142</th>\n",
       "      <td>1</td>\n",
       "      <td>1</td>\n",
       "    </tr>\n",
       "    <tr>\n",
       "      <th rowspan=\"2\" valign=\"top\">timeseries/working-with-time-series-data-with-pandas</th>\n",
       "      <th>70.112.179.142</th>\n",
       "      <td>1</td>\n",
       "      <td>1</td>\n",
       "    </tr>\n",
       "    <tr>\n",
       "      <th>70.130.127.113</th>\n",
       "      <td>1</td>\n",
       "      <td>1</td>\n",
       "    </tr>\n",
       "  </tbody>\n",
       "</table>\n",
       "<p>3972 rows × 2 columns</p>\n",
       "</div>"
      ],
      "text/plain": [
       "                                                                    user_id  \\\n",
       "page                                               ip                         \n",
       "%20https://github.com/RaulCPena                    74.192.167.159         1   \n",
       ",%20https://github.com/RaulCPena                   74.192.167.159         1   \n",
       "/                                                  104.190.137.203        5   \n",
       "                                                   104.5.217.57          50   \n",
       "                                                   107.136.101.76         1   \n",
       "...                                                                     ...   \n",
       "timeseries/sarimax                                 70.112.179.142         2   \n",
       "timeseries/svr                                     70.112.179.142         1   \n",
       "timeseries/working-with-time-series-data           70.112.179.142         1   \n",
       "timeseries/working-with-time-series-data-with-p... 70.112.179.142         1   \n",
       "                                                   70.130.127.113         1   \n",
       "\n",
       "                                                                    cohort_id  \n",
       "page                                               ip                          \n",
       "%20https://github.com/RaulCPena                    74.192.167.159           1  \n",
       ",%20https://github.com/RaulCPena                   74.192.167.159           1  \n",
       "/                                                  104.190.137.203          5  \n",
       "                                                   104.5.217.57            50  \n",
       "                                                   107.136.101.76           1  \n",
       "...                                                                       ...  \n",
       "timeseries/sarimax                                 70.112.179.142           2  \n",
       "timeseries/svr                                     70.112.179.142           1  \n",
       "timeseries/working-with-time-series-data           70.112.179.142           1  \n",
       "timeseries/working-with-time-series-data-with-p... 70.112.179.142           1  \n",
       "                                                   70.130.127.113           1  \n",
       "\n",
       "[3972 rows x 2 columns]"
      ]
     },
     "execution_count": 36,
     "metadata": {},
     "output_type": "execute_result"
    }
   ],
   "source": [
    "df.groupby(['page','ip']).count()"
   ]
  },
  {
   "cell_type": "code",
   "execution_count": 37,
   "metadata": {},
   "outputs": [],
   "source": [
    "id_ip_df = df.groupby(['user_id','ip']).count()"
   ]
  },
  {
   "cell_type": "code",
   "execution_count": 38,
   "metadata": {
    "scrolled": true
   },
   "outputs": [
    {
     "data": {
      "text/plain": [
       "<AxesSubplot:xlabel='ip', ylabel='user_id'>"
      ]
     },
     "execution_count": 38,
     "metadata": {},
     "output_type": "execute_result"
    },
    {
     "data": {
      "image/png": "[encoded data removed]",
      "text/plain": [
       "<Figure size 432x288 with 1 Axes>"
      ]
     },
     "metadata": {
      "needs_background": "light"
     },
     "output_type": "display_data"
    }
   ],
   "source": [
    "df.plot.scatter('ip','user_id')"
   ]
  },
  {
   "cell_type": "code",
   "execution_count": 39,
   "metadata": {},
   "outputs": [],
   "source": [
    "def compute_entropy(series):\n",
    "    counts = series.value_counts()\n",
    "    if len(counts)==1:\n",
    "        ent = 0\n",
    "    else:\n",
    "        value, counts = np.unique(series, return_counts=True)\n",
    "        ent = entropy(counts, base=None)\n",
    "    return ent\n"
   ]
  },
  {
   "cell_type": "code",
   "execution_count": 40,
   "metadata": {},
   "outputs": [
    {
     "data": {
      "text/plain": [
       "3.1111958906033657"
      ]
     },
     "execution_count": 40,
     "metadata": {},
     "output_type": "execute_result"
    }
   ],
   "source": [
    "compute_entropy(df.ip)"
   ]
  },
  {
   "cell_type": "code",
   "execution_count": 41,
   "metadata": {},
   "outputs": [
    {
     "data": {
      "text/plain": [
       "2.7988901352084543"
      ]
     },
     "execution_count": 41,
     "metadata": {},
     "output_type": "execute_result"
    }
   ],
   "source": [
    "compute_entropy(df.user_id)"
   ]
  },
  {
   "cell_type": "markdown",
   "metadata": {},
   "source": [
    "# Starting over again"
   ]
  },
  {
   "cell_type": "markdown",
   "metadata": {},
   "source": [
    "## Goal\n",
    "- Look for anything out of the norm with our cohort"
   ]
  },
  {
   "cell_type": "code",
   "execution_count": 42,
   "metadata": {},
   "outputs": [],
   "source": [
    "df = pd.read_csv('anonymized-curriculum-access.txt', sep=\" \", header=None)"
   ]
  },
  {
   "cell_type": "code",
   "execution_count": 43,
   "metadata": {},
   "outputs": [],
   "source": [
    "df['time_stamp'] = df[0] + ' ' + df[1]"
   ]
  },
  {
   "cell_type": "code",
   "execution_count": 44,
   "metadata": {},
   "outputs": [],
   "source": [
    "df = df.drop(columns = [0,1])"
   ]
  },
  {
   "cell_type": "code",
   "execution_count": 45,
   "metadata": {},
   "outputs": [],
   "source": [
    "df = df.rename(columns={2: \"page\", 3:'user_id', 4:'cohort_id', 5:'ip'})"
   ]
  },
  {
   "cell_type": "code",
   "execution_count": 46,
   "metadata": {},
   "outputs": [
    {
     "data": {
      "text/html": [
       "<div>\n",
       "<style scoped>\n",
       "    .dataframe tbody tr th:only-of-type {\n",
       "        vertical-align: middle;\n",
       "    }\n",
       "\n",
       "    .dataframe tbody tr th {\n",
       "        vertical-align: top;\n",
       "    }\n",
       "\n",
       "    .dataframe thead th {\n",
       "        text-align: right;\n",
       "    }\n",
       "</style>\n",
       "<table border=\"1\" class=\"dataframe\">\n",
       "  <thead>\n",
       "    <tr style=\"text-align: right;\">\n",
       "      <th></th>\n",
       "      <th>page</th>\n",
       "      <th>user_id</th>\n",
       "      <th>cohort_id</th>\n",
       "      <th>ip</th>\n",
       "      <th>time_stamp</th>\n",
       "    </tr>\n",
       "  </thead>\n",
       "  <tbody>\n",
       "    <tr>\n",
       "      <th>0</th>\n",
       "      <td>/</td>\n",
       "      <td>1</td>\n",
       "      <td>8.0</td>\n",
       "      <td>97.105.19.61</td>\n",
       "      <td>2018-01-26 09:55:03</td>\n",
       "    </tr>\n",
       "    <tr>\n",
       "      <th>1</th>\n",
       "      <td>java-ii</td>\n",
       "      <td>1</td>\n",
       "      <td>8.0</td>\n",
       "      <td>97.105.19.61</td>\n",
       "      <td>2018-01-26 09:56:02</td>\n",
       "    </tr>\n",
       "    <tr>\n",
       "      <th>2</th>\n",
       "      <td>java-ii/object-oriented-programming</td>\n",
       "      <td>1</td>\n",
       "      <td>8.0</td>\n",
       "      <td>97.105.19.61</td>\n",
       "      <td>2018-01-26 09:56:05</td>\n",
       "    </tr>\n",
       "    <tr>\n",
       "      <th>3</th>\n",
       "      <td>slides/object_oriented_programming</td>\n",
       "      <td>1</td>\n",
       "      <td>8.0</td>\n",
       "      <td>97.105.19.61</td>\n",
       "      <td>2018-01-26 09:56:06</td>\n",
       "    </tr>\n",
       "    <tr>\n",
       "      <th>4</th>\n",
       "      <td>javascript-i/conditionals</td>\n",
       "      <td>2</td>\n",
       "      <td>22.0</td>\n",
       "      <td>97.105.19.61</td>\n",
       "      <td>2018-01-26 09:56:24</td>\n",
       "    </tr>\n",
       "  </tbody>\n",
       "</table>\n",
       "</div>"
      ],
      "text/plain": [
       "                                  page  user_id  cohort_id            ip  \\\n",
       "0                                    /        1        8.0  97.105.19.61   \n",
       "1                              java-ii        1        8.0  97.105.19.61   \n",
       "2  java-ii/object-oriented-programming        1        8.0  97.105.19.61   \n",
       "3   slides/object_oriented_programming        1        8.0  97.105.19.61   \n",
       "4            javascript-i/conditionals        2       22.0  97.105.19.61   \n",
       "\n",
       "            time_stamp  \n",
       "0  2018-01-26 09:55:03  \n",
       "1  2018-01-26 09:56:02  \n",
       "2  2018-01-26 09:56:05  \n",
       "3  2018-01-26 09:56:06  \n",
       "4  2018-01-26 09:56:24  "
      ]
     },
     "execution_count": 46,
     "metadata": {},
     "output_type": "execute_result"
    }
   ],
   "source": [
    "df.head()"
   ]
  },
  {
   "cell_type": "code",
   "execution_count": 47,
   "metadata": {},
   "outputs": [],
   "source": [
    "df.time_stamp = pd.to_datetime(df.time_stamp)\n",
    "df = df.set_index('time_stamp')"
   ]
  },
  {
   "cell_type": "code",
   "execution_count": 48,
   "metadata": {},
   "outputs": [],
   "source": [
    "df['times_accessed'] = 1"
   ]
  },
  {
   "cell_type": "code",
   "execution_count": 49,
   "metadata": {},
   "outputs": [
    {
     "data": {
      "text/html": [
       "<div>\n",
       "<style scoped>\n",
       "    .dataframe tbody tr th:only-of-type {\n",
       "        vertical-align: middle;\n",
       "    }\n",
       "\n",
       "    .dataframe tbody tr th {\n",
       "        vertical-align: top;\n",
       "    }\n",
       "\n",
       "    .dataframe thead th {\n",
       "        text-align: right;\n",
       "    }\n",
       "</style>\n",
       "<table border=\"1\" class=\"dataframe\">\n",
       "  <thead>\n",
       "    <tr style=\"text-align: right;\">\n",
       "      <th></th>\n",
       "      <th>times_accessed</th>\n",
       "    </tr>\n",
       "    <tr>\n",
       "      <th>time_stamp</th>\n",
       "      <th></th>\n",
       "    </tr>\n",
       "  </thead>\n",
       "  <tbody>\n",
       "    <tr>\n",
       "      <th>2018-01-31</th>\n",
       "      <td>3270</td>\n",
       "    </tr>\n",
       "    <tr>\n",
       "      <th>2018-02-28</th>\n",
       "      <td>13620</td>\n",
       "    </tr>\n",
       "    <tr>\n",
       "      <th>2018-03-31</th>\n",
       "      <td>19548</td>\n",
       "    </tr>\n",
       "    <tr>\n",
       "      <th>2018-04-30</th>\n",
       "      <td>14461</td>\n",
       "    </tr>\n",
       "    <tr>\n",
       "      <th>2018-05-31</th>\n",
       "      <td>12112</td>\n",
       "    </tr>\n",
       "  </tbody>\n",
       "</table>\n",
       "</div>"
      ],
      "text/plain": [
       "            times_accessed\n",
       "time_stamp                \n",
       "2018-01-31            3270\n",
       "2018-02-28           13620\n",
       "2018-03-31           19548\n",
       "2018-04-30           14461\n",
       "2018-05-31           12112"
      ]
     },
     "execution_count": 49,
     "metadata": {},
     "output_type": "execute_result"
    }
   ],
   "source": [
    "# Shows how many times the ciriculum was accessed monthly\n",
    "df[['times_accessed']].resample('m').sum().head()"
   ]
  },
  {
   "cell_type": "code",
   "execution_count": 50,
   "metadata": {},
   "outputs": [
    {
     "data": {
      "text/plain": [
       "<AxesSubplot:xlabel='time_stamp'>"
      ]
     },
     "execution_count": 50,
     "metadata": {},
     "output_type": "execute_result"
    },
    {
     "data": {
      "image/png": "[encoded data removed]",
      "text/plain": [
       "<Figure size 432x288 with 1 Axes>"
      ]
     },
     "metadata": {
      "needs_background": "light"
     },
     "output_type": "display_data"
    }
   ],
   "source": [
    "df[['times_accessed']].resample('m').sum().plot()"
   ]
  },
  {
   "cell_type": "code",
   "execution_count": 51,
   "metadata": {},
   "outputs": [
    {
     "data": {
      "text/plain": [
       "11     14870\n",
       "64     14444\n",
       "53     10874\n",
       "1       6440\n",
       "314     6419\n",
       "Name: user_id, dtype: int64"
      ]
     },
     "execution_count": 51,
     "metadata": {},
     "output_type": "execute_result"
    }
   ],
   "source": [
    "# How many users are there? Alot of hits with user_id 11, 64 and 53. Maybe apart of codeup??\n",
    "df['user_id'].value_counts().head()"
   ]
  },
  {
   "cell_type": "code",
   "execution_count": 52,
   "metadata": {},
   "outputs": [
    {
     "data": {
      "text/plain": [
       "97.105.19.58       7049\n",
       "76.185.145.231     3852\n",
       "76.185.131.226     2087\n",
       "97.105.19.61       1459\n",
       "76.185.142.244      238\n",
       "76.185.152.58        71\n",
       "192.171.117.210      37\n",
       "72.128.136.219       23\n",
       "72.181.121.84        11\n",
       "67.164.150.90        11\n",
       "75.1.201.239          9\n",
       "99.203.26.55          5\n",
       "208.54.83.145         4\n",
       "144.178.1.46          2\n",
       "75.54.33.188          2\n",
       "208.54.83.163         2\n",
       "99.203.155.182        1\n",
       "99.203.27.231         1\n",
       "72.205.179.123        1\n",
       "172.56.15.51          1\n",
       "208.54.83.234         1\n",
       "99.203.143.2          1\n",
       "99.203.26.9           1\n",
       "99.203.155.78         1\n",
       "Name: ip, dtype: int64"
      ]
     },
     "execution_count": 52,
     "metadata": {},
     "output_type": "execute_result"
    }
   ],
   "source": [
    "# Looking at user 11\n",
    "user11 = df[df.user_id == 11]\n",
    "user11.ip.value_counts() # Uses a bounch of differnt ip addresses. interesting"
   ]
  },
  {
   "cell_type": "code",
   "execution_count": 53,
   "metadata": {},
   "outputs": [
    {
     "data": {
      "text/plain": [
       "28.0    12135\n",
       "1.0      2735\n",
       "Name: cohort_id, dtype: int64"
      ]
     },
     "execution_count": 53,
     "metadata": {},
     "output_type": "execute_result"
    }
   ],
   "source": [
    "# Has 2 cohort ids\n",
    "user11.cohort_id.value_counts()"
   ]
  },
  {
   "cell_type": "code",
   "execution_count": 54,
   "metadata": {},
   "outputs": [
    {
     "data": {
      "text/plain": [
       "97.105.19.58       5690\n",
       "71.150.217.33      4918\n",
       "97.105.19.61       1936\n",
       "12.106.208.194      835\n",
       "70.118.8.243        628\n",
       "76.187.118.255      126\n",
       "76.25.25.4          120\n",
       "192.171.117.210      56\n",
       "187.220.23.224       25\n",
       "209.92.162.135       24\n",
       "148.244.212.19        9\n",
       "12.189.101.90         8\n",
       "24.28.70.46           8\n",
       "98.6.1.177            6\n",
       "207.239.160.254       6\n",
       "127.0.0.1             6\n",
       "4.16.216.161          5\n",
       "99.203.31.78          4\n",
       "201.174.135.51        3\n",
       "172.58.107.207        3\n",
       "75.54.33.190          3\n",
       "24.27.227.1           3\n",
       "69.148.0.213          3\n",
       "75.54.33.182          3\n",
       "69.172.183.120        3\n",
       "200.68.128.26         2\n",
       "104.238.45.20         2\n",
       "187.237.25.33         2\n",
       "207.87.181.170        2\n",
       "99.203.22.172         2\n",
       "187.237.231.85        1\n",
       "187.237.231.72        1\n",
       "70.114.21.86          1\n",
       "Name: ip, dtype: int64"
      ]
     },
     "execution_count": 54,
     "metadata": {},
     "output_type": "execute_result"
    }
   ],
   "source": [
    "# Looking at user 64\n",
    "user64 = df[df.user_id == 64]\n",
    "user64.ip.value_counts() # Uses a bounch of differnt ip addresses. interesting"
   ]
  },
  {
   "cell_type": "code",
   "execution_count": 55,
   "metadata": {},
   "outputs": [
    {
     "data": {
      "text/plain": [
       "28.0    10627\n",
       "1.0      3767\n",
       "52.0       25\n",
       "Name: cohort_id, dtype: int64"
      ]
     },
     "execution_count": 55,
     "metadata": {},
     "output_type": "execute_result"
    }
   ],
   "source": [
    "# Has 2 cohort ids. Shares the same cohort ids as user 11 and has id 52 as well\n",
    "user64.cohort_id.value_counts()"
   ]
  },
  {
   "cell_type": "code",
   "execution_count": 56,
   "metadata": {},
   "outputs": [
    {
     "data": {
      "text/plain": [
       "97.105.19.58       4895\n",
       "67.10.174.56       2926\n",
       "97.105.19.61       2307\n",
       "67.10.161.55        651\n",
       "192.171.117.210      36\n",
       "173.175.82.174       23\n",
       "173.174.212.111      18\n",
       "98.6.52.59            5\n",
       "50.84.218.3           5\n",
       "72.128.136.219        5\n",
       "107.77.221.110        2\n",
       "75.54.33.178          1\n",
       "Name: ip, dtype: int64"
      ]
     },
     "execution_count": 56,
     "metadata": {},
     "output_type": "execute_result"
    }
   ],
   "source": [
    "# Looking at user 53\n",
    "user53 = df[df.user_id == 53]\n",
    "user53.ip.value_counts() # Not as many ip's as the other 2"
   ]
  },
  {
   "cell_type": "code",
   "execution_count": 57,
   "metadata": {},
   "outputs": [
    {
     "data": {
      "text/plain": [
       "14.0    8197\n",
       "28.0    2677\n",
       "Name: cohort_id, dtype: int64"
      ]
     },
     "execution_count": 57,
     "metadata": {},
     "output_type": "execute_result"
    }
   ],
   "source": [
    "# Has 2 cohort ids. Shares the same cohort id of 28 as user 11 and 64\n",
    "user53.cohort_id.value_counts()"
   ]
  },
  {
   "cell_type": "code",
   "execution_count": 58,
   "metadata": {},
   "outputs": [
    {
     "data": {
      "text/plain": [
       "28.0    60315\n",
       "33.0    40168\n",
       "29.0    37548\n",
       "53.0    36047\n",
       "24.0    35624\n",
       "Name: cohort_id, dtype: int64"
      ]
     },
     "execution_count": 58,
     "metadata": {},
     "output_type": "execute_result"
    }
   ],
   "source": [
    "# Which cohort id has the highest counts of accessing? Not supprising 28 is the most since the users above used\n",
    "# cohort_id 28 the most\n",
    "df['cohort_id'].value_counts().head()"
   ]
  },
  {
   "cell_type": "code",
   "execution_count": 59,
   "metadata": {},
   "outputs": [
    {
     "data": {
      "text/html": [
       "<div>\n",
       "<style scoped>\n",
       "    .dataframe tbody tr th:only-of-type {\n",
       "        vertical-align: middle;\n",
       "    }\n",
       "\n",
       "    .dataframe tbody tr th {\n",
       "        vertical-align: top;\n",
       "    }\n",
       "\n",
       "    .dataframe thead th {\n",
       "        text-align: right;\n",
       "    }\n",
       "</style>\n",
       "<table border=\"1\" class=\"dataframe\">\n",
       "  <thead>\n",
       "    <tr style=\"text-align: right;\">\n",
       "      <th></th>\n",
       "      <th>page</th>\n",
       "      <th>user_id</th>\n",
       "      <th>cohort_id</th>\n",
       "      <th>ip</th>\n",
       "      <th>times_accessed</th>\n",
       "    </tr>\n",
       "    <tr>\n",
       "      <th>time_stamp</th>\n",
       "      <th></th>\n",
       "      <th></th>\n",
       "      <th></th>\n",
       "      <th></th>\n",
       "      <th></th>\n",
       "    </tr>\n",
       "  </thead>\n",
       "  <tbody>\n",
       "    <tr>\n",
       "      <th>2020-07-13 14:34:44</th>\n",
       "      <td>/</td>\n",
       "      <td>678</td>\n",
       "      <td>59.0</td>\n",
       "      <td>76.201.20.193</td>\n",
       "      <td>1</td>\n",
       "    </tr>\n",
       "    <tr>\n",
       "      <th>2020-07-13 14:37:22</th>\n",
       "      <td>/</td>\n",
       "      <td>679</td>\n",
       "      <td>59.0</td>\n",
       "      <td>24.28.146.155</td>\n",
       "      <td>1</td>\n",
       "    </tr>\n",
       "    <tr>\n",
       "      <th>2020-07-13 14:38:28</th>\n",
       "      <td>/</td>\n",
       "      <td>680</td>\n",
       "      <td>59.0</td>\n",
       "      <td>136.50.56.155</td>\n",
       "      <td>1</td>\n",
       "    </tr>\n",
       "    <tr>\n",
       "      <th>2020-07-13 14:39:21</th>\n",
       "      <td>13-advanced-topics/1-tidy-data</td>\n",
       "      <td>679</td>\n",
       "      <td>59.0</td>\n",
       "      <td>24.28.146.155</td>\n",
       "      <td>1</td>\n",
       "    </tr>\n",
       "    <tr>\n",
       "      <th>2020-07-13 14:39:36</th>\n",
       "      <td>1-fundamentals/1.1-intro-to-data-science</td>\n",
       "      <td>679</td>\n",
       "      <td>59.0</td>\n",
       "      <td>24.28.146.155</td>\n",
       "      <td>1</td>\n",
       "    </tr>\n",
       "  </tbody>\n",
       "</table>\n",
       "</div>"
      ],
      "text/plain": [
       "                                                         page  user_id  \\\n",
       "time_stamp                                                               \n",
       "2020-07-13 14:34:44                                         /      678   \n",
       "2020-07-13 14:37:22                                         /      679   \n",
       "2020-07-13 14:38:28                                         /      680   \n",
       "2020-07-13 14:39:21            13-advanced-topics/1-tidy-data      679   \n",
       "2020-07-13 14:39:36  1-fundamentals/1.1-intro-to-data-science      679   \n",
       "\n",
       "                     cohort_id             ip  times_accessed  \n",
       "time_stamp                                                     \n",
       "2020-07-13 14:34:44       59.0  76.201.20.193               1  \n",
       "2020-07-13 14:37:22       59.0  24.28.146.155               1  \n",
       "2020-07-13 14:38:28       59.0  136.50.56.155               1  \n",
       "2020-07-13 14:39:21       59.0  24.28.146.155               1  \n",
       "2020-07-13 14:39:36       59.0  24.28.146.155               1  "
      ]
     },
     "execution_count": 59,
     "metadata": {},
     "output_type": "execute_result"
    }
   ],
   "source": [
    "# Looking at our cohort now\n",
    "df59 = df[df.cohort_id == 59]\n",
    "df59.head()"
   ]
  },
  {
   "cell_type": "code",
   "execution_count": 60,
   "metadata": {},
   "outputs": [
    {
     "name": "stdout",
     "output_type": "stream",
     "text": [
      "2020-07-13 14:34:44\n",
      "2020-11-02 15:52:23\n"
     ]
    }
   ],
   "source": [
    "# Date range of our cohort so far\n",
    "print(df59.index.min())\n",
    "print(df59.index.max())"
   ]
  },
  {
   "cell_type": "code",
   "execution_count": 61,
   "metadata": {},
   "outputs": [],
   "source": [
    "# Computing entropy\n",
    "def compute_entropy(series):\n",
    "    counts = series.value_counts()\n",
    "    if len(counts)==1:\n",
    "        ent = 0\n",
    "    else:\n",
    "        value, counts = np.unique(series, return_counts=True)\n",
    "        ent = entropy(counts, base=None)\n",
    "    return ent"
   ]
  },
  {
   "cell_type": "code",
   "execution_count": 62,
   "metadata": {},
   "outputs": [
    {
     "data": {
      "text/plain": [
       "0"
      ]
     },
     "execution_count": 62,
     "metadata": {},
     "output_type": "execute_result"
    }
   ],
   "source": [
    "# entropy of cohort id\n",
    "compute_entropy(df59.cohort_id) # no entropy as only one unique value is in this column."
   ]
  },
  {
   "cell_type": "code",
   "execution_count": 63,
   "metadata": {},
   "outputs": [
    {
     "data": {
      "text/plain": [
       "3.0193491002050257"
      ]
     },
     "execution_count": 63,
     "metadata": {},
     "output_type": "execute_result"
    }
   ],
   "source": [
    "# entropy of user id\n",
    "compute_entropy(df59.user_id) "
   ]
  },
  {
   "cell_type": "code",
   "execution_count": 64,
   "metadata": {},
   "outputs": [
    {
     "data": {
      "text/plain": [
       "3.4316749297604687"
      ]
     },
     "execution_count": 64,
     "metadata": {},
     "output_type": "execute_result"
    }
   ],
   "source": [
    "# entropy of ip\n",
    "compute_entropy(df59.ip)"
   ]
  },
  {
   "cell_type": "code",
   "execution_count": 65,
   "metadata": {},
   "outputs": [
    {
     "data": {
      "text/plain": [
       "4.770190297987762"
      ]
     },
     "execution_count": 65,
     "metadata": {},
     "output_type": "execute_result"
    }
   ],
   "source": [
    "# entropy of page\n",
    "compute_entropy(df59.page)"
   ]
  },
  {
   "cell_type": "markdown",
   "metadata": {},
   "source": [
    "# Resampling by hour"
   ]
  },
  {
   "cell_type": "code",
   "execution_count": 66,
   "metadata": {},
   "outputs": [
    {
     "data": {
      "text/plain": [
       "time_stamp\n",
       "2020-07-13 14:00:00    95\n",
       "2020-07-13 15:00:00    36\n",
       "2020-07-13 16:00:00     0\n",
       "2020-07-13 17:00:00     3\n",
       "2020-07-13 18:00:00     3\n",
       "                       ..\n",
       "2020-11-02 11:00:00     5\n",
       "2020-11-02 12:00:00    11\n",
       "2020-11-02 13:00:00    14\n",
       "2020-11-02 14:00:00    10\n",
       "2020-11-02 15:00:00    32\n",
       "Freq: H, Name: user_id, Length: 2690, dtype: int64"
      ]
     },
     "execution_count": 66,
     "metadata": {},
     "output_type": "execute_result"
    }
   ],
   "source": [
    "df59.resample('H').user_id.count()"
   ]
  },
  {
   "cell_type": "code",
   "execution_count": 67,
   "metadata": {},
   "outputs": [
    {
     "data": {
      "text/plain": [
       "time_stamp\n",
       "2020-07-13 14:00:00    95\n",
       "2020-07-13 15:00:00    36\n",
       "2020-07-13 16:00:00     0\n",
       "2020-07-13 17:00:00     3\n",
       "2020-07-13 18:00:00     3\n",
       "                       ..\n",
       "2020-11-02 11:00:00     5\n",
       "2020-11-02 12:00:00    11\n",
       "2020-11-02 13:00:00    14\n",
       "2020-11-02 14:00:00    10\n",
       "2020-11-02 15:00:00    32\n",
       "Freq: H, Name: ip, Length: 2690, dtype: int64"
      ]
     },
     "execution_count": 67,
     "metadata": {},
     "output_type": "execute_result"
    }
   ],
   "source": [
    "df59.resample('H').ip.count()"
   ]
  },
  {
   "cell_type": "markdown",
   "metadata": {},
   "source": [
    "## all have the same values no matter what column used"
   ]
  },
  {
   "cell_type": "markdown",
   "metadata": {},
   "source": [
    "# Split into Train/Test"
   ]
  },
  {
   "cell_type": "code",
   "execution_count": 68,
   "metadata": {},
   "outputs": [
    {
     "data": {
      "text/plain": [
       "Timedelta('112 days 01:17:39')"
      ]
     },
     "execution_count": 68,
     "metadata": {},
     "output_type": "execute_result"
    }
   ],
   "source": [
    "# looking at how many days are here to do the split\n",
    "days = df59.index.max() - df59.index.min()\n",
    "days"
   ]
  },
  {
   "cell_type": "code",
   "execution_count": 69,
   "metadata": {},
   "outputs": [
    {
     "data": {
      "text/plain": [
       "time_stamp\n",
       "2020-07-13 14:00:00    95\n",
       "2020-07-13 15:00:00    36\n",
       "2020-07-13 16:00:00     0\n",
       "2020-07-13 17:00:00     3\n",
       "2020-07-13 18:00:00     3\n",
       "                       ..\n",
       "2020-11-02 11:00:00     5\n",
       "2020-11-02 12:00:00    11\n",
       "2020-11-02 13:00:00    14\n",
       "2020-11-02 14:00:00    10\n",
       "2020-11-02 15:00:00    32\n",
       "Freq: H, Name: ip, Length: 2690, dtype: int64"
      ]
     },
     "execution_count": 69,
     "metadata": {},
     "output_type": "execute_result"
    }
   ],
   "source": [
    "# Creating a variable for start date\n",
    "hits = df59.resample('H').ip.count()\n",
    "hits"
   ]
  },
  {
   "cell_type": "code",
   "execution_count": 70,
   "metadata": {},
   "outputs": [
    {
     "data": {
      "image/png": "[encoded data removed]",
      "text/plain": [
       "<Figure size 864x576 with 1 Axes>"
      ]
     },
     "metadata": {
      "needs_background": "light"
     },
     "output_type": "display_data"
    }
   ],
   "source": [
    "start_date_train = hits.index[0]\n",
    "end_date_train = '2020-09-28 23:00:00'\n",
    "start_date_test = '2020-09-29 00:00:00'\n",
    "\n",
    "train = hits[:end_date_train]\n",
    "test = hits[start_date_test:]\n",
    "\n",
    "plt.figure(figsize=(12, 8))\n",
    "plt.plot(train)\n",
    "plt.plot(test)\n",
    "plt.show()"
   ]
  },
  {
   "cell_type": "code",
   "execution_count": 71,
   "metadata": {},
   "outputs": [
    {
     "data": {
      "text/plain": [
       "<matplotlib.legend.Legend at 0x7fe0730927d0>"
      ]
     },
     "execution_count": 71,
     "metadata": {},
     "output_type": "execute_result"
    },
    {
     "data": {
      "image/png": "[encoded data removed]",
      "text/plain": [
       "<Figure size 864x576 with 1 Axes>"
      ]
     },
     "metadata": {
      "needs_background": "light"
     },
     "output_type": "display_data"
    }
   ],
   "source": [
    "plt.figure(figsize=(12,8))\n",
    "train.resample('6H').mean().plot(label='Hourly')\n",
    "train.resample('D').mean().plot(label='Daily')\n",
    "train.resample('W').mean().plot(alpha=.8, label='Weekly')\n",
    "plt.legend()"
   ]
  },
  {
   "cell_type": "markdown",
   "metadata": {},
   "source": [
    "# Simple Moving Average"
   ]
  },
  {
   "cell_type": "code",
   "execution_count": 72,
   "metadata": {},
   "outputs": [],
   "source": [
    "# short-window simple moving average\n",
    "short_rolling = train.rolling(window=12).mean()\n",
    "\n",
    "# long-window simple moving average\n",
    "long_rolling = train.rolling(window=24).mean()"
   ]
  },
  {
   "cell_type": "code",
   "execution_count": 73,
   "metadata": {},
   "outputs": [
    {
     "data": {
      "text/plain": [
       "time_stamp\n",
       "2020-07-13 14:00:00          NaN\n",
       "2020-07-13 15:00:00          NaN\n",
       "2020-07-13 16:00:00          NaN\n",
       "2020-07-13 17:00:00          NaN\n",
       "2020-07-13 18:00:00          NaN\n",
       "2020-07-13 19:00:00          NaN\n",
       "2020-07-13 20:00:00          NaN\n",
       "2020-07-13 21:00:00          NaN\n",
       "2020-07-13 22:00:00          NaN\n",
       "2020-07-13 23:00:00          NaN\n",
       "2020-07-14 00:00:00          NaN\n",
       "2020-07-14 01:00:00    14.250000\n",
       "2020-07-14 02:00:00     6.333333\n",
       "2020-07-14 03:00:00     3.333333\n",
       "2020-07-14 04:00:00     3.333333\n",
       "Freq: H, Name: ip, dtype: float64"
      ]
     },
     "execution_count": 73,
     "metadata": {},
     "output_type": "execute_result"
    }
   ],
   "source": [
    "short_rolling.head(15)"
   ]
  },
  {
   "cell_type": "code",
   "execution_count": 74,
   "metadata": {},
   "outputs": [
    {
     "data": {
      "text/plain": [
       "time_stamp\n",
       "2020-07-14 10:00:00          NaN\n",
       "2020-07-14 11:00:00          NaN\n",
       "2020-07-14 12:00:00          NaN\n",
       "2020-07-14 13:00:00    16.916667\n",
       "2020-07-14 14:00:00    13.875000\n",
       "2020-07-14 15:00:00    12.916667\n",
       "2020-07-14 16:00:00    18.416667\n",
       "2020-07-14 17:00:00    19.708333\n",
       "2020-07-14 18:00:00    19.583333\n",
       "2020-07-14 19:00:00    19.375000\n",
       "Freq: H, Name: ip, dtype: float64"
      ]
     },
     "execution_count": 74,
     "metadata": {},
     "output_type": "execute_result"
    }
   ],
   "source": [
    "long_rolling[20:30]"
   ]
  },
  {
   "cell_type": "code",
   "execution_count": 75,
   "metadata": {},
   "outputs": [
    {
     "data": {
      "text/plain": [
       "Text(0, 0.5, 'hits')"
      ]
     },
     "execution_count": 75,
     "metadata": {},
     "output_type": "execute_result"
    },
    {
     "data": {
      "image/png": "[encoded data removed]",
      "text/plain": [
       "<Figure size 1008x720 with 1 Axes>"
      ]
     },
     "metadata": {
      "needs_background": "light"
     },
     "output_type": "display_data"
    }
   ],
   "source": [
    "fig, ax = plt.subplots(figsize=(14,10))\n",
    "\n",
    "ax.plot(train.index, \n",
    "        train,\n",
    "        label='hits')\n",
    "\n",
    "ax.plot(short_rolling.index, \n",
    "        short_rolling, \n",
    "        label = '6-Hour SMA')\n",
    "\n",
    "ax.plot(long_rolling.index, \n",
    "        long_rolling, \n",
    "        label = '12-Hour SMA')\n",
    "\n",
    "ax.legend(loc='best')\n",
    "ax.set_ylabel('hits')\n",
    "# ax.xaxis.(rotate=90)\n",
    "# ax.xaxis.set_major_formatter(my_datetime_fmt)"
   ]
  },
  {
   "cell_type": "markdown",
   "metadata": {},
   "source": [
    "# Expotential Moving Average"
   ]
  },
  {
   "cell_type": "code",
   "execution_count": 76,
   "metadata": {},
   "outputs": [
    {
     "data": {
      "text/plain": [
       "time_stamp\n",
       "2020-07-13 14:00:00    95.000000\n",
       "2020-07-13 15:00:00    63.041667\n",
       "2020-07-13 16:00:00    38.436490\n",
       "2020-07-13 17:00:00    27.250575\n",
       "2020-07-13 18:00:00    20.661780\n",
       "Freq: H, Name: ip, dtype: float64"
      ]
     },
     "execution_count": 76,
     "metadata": {},
     "output_type": "execute_result"
    }
   ],
   "source": [
    "ema_short = train.ewm(span=12).mean()\n",
    "ema_short.head()"
   ]
  },
  {
   "cell_type": "code",
   "execution_count": 77,
   "metadata": {},
   "outputs": [
    {
     "data": {
      "text/plain": [
       "time_stamp\n",
       "2020-09-28 19:00:00    8.538561\n",
       "2020-09-28 20:00:00    8.175476\n",
       "2020-09-28 21:00:00    7.521438\n",
       "2020-09-28 22:00:00    6.919723\n",
       "2020-09-28 23:00:00    6.686145\n",
       "Freq: H, Name: ip, dtype: float64"
      ]
     },
     "execution_count": 77,
     "metadata": {},
     "output_type": "execute_result"
    }
   ],
   "source": [
    "ema_long = train.ewm(span=24).mean()\n",
    "ema_long.tail()"
   ]
  },
  {
   "cell_type": "code",
   "execution_count": 78,
   "metadata": {},
   "outputs": [
    {
     "data": {
      "text/plain": [
       "Text(0, 0.5, 'hits')"
      ]
     },
     "execution_count": 78,
     "metadata": {},
     "output_type": "execute_result"
    },
    {
     "data": {
      "image/png": "[encoded data removed]",
      "text/plain": [
       "<Figure size 1008x720 with 1 Axes>"
      ]
     },
     "metadata": {
      "needs_background": "light"
     },
     "output_type": "display_data"
    }
   ],
   "source": [
    "fig, ax = plt.subplots(figsize=(14,10) )\n",
    "\n",
    "ax.plot(train.index, \n",
    "        train,\n",
    "        label='hits')\n",
    "\n",
    "ax.plot(short_rolling.index, \n",
    "        short_rolling, \n",
    "        label = '6-Hour SMA')\n",
    "ax.plot(long_rolling.index, \n",
    "        ema_short, \n",
    "        label = 'Span 6-Hour EMA')\n",
    "ax.plot(long_rolling.index, \n",
    "        long_rolling, \n",
    "        label = '12-Hour SMA')\n",
    "ax.plot(long_rolling.index, \n",
    "        ema_long, \n",
    "        label = 'Span 12-Hour EMA')\n",
    "\n",
    "ax.legend(loc='best')\n",
    "ax.set_ylabel('hits')"
   ]
  },
  {
   "cell_type": "markdown",
   "metadata": {},
   "source": [
    "# Bollinger Bands %B\n",
    "## Bollinger Bands\n",
    "- a volatility indicator and commonly used in stock market trading.\n",
    "- Made up of 3 lines, the Upper Band (UB), the Lower Band (LB) and the Midband. ### Midband\n",
    "- The Exponential Moving Average\n",
    "- midband = train.ewm(span=30).mean() ### Upper & Lower Band\n",
    "- UB/LB = Midband +/- stdev * K\n",
    "- stdev = train.ewm(span=30).std()\n",
    "- K = the number of standard deviations to go up and down from the EMA ### %b, Percent Bandwidth\n",
    "- Shows where the last value sits in relation to the bands\n",
    "- $\\%b = \\frac{last-LB}{UB-LB}$\n",
    "- %b > 1 => point lies above UB\n",
    "- %b < 0 => point lies below LB\n",
    "- %b == .5 => point lies on the midband. ### Bandwidth\n",
    "- The width of the bands\n",
    "- $Bandwidth = \\frac{(UB-LB)}{Midband}$"
   ]
  },
  {
   "cell_type": "code",
   "execution_count": 79,
   "metadata": {},
   "outputs": [
    {
     "data": {
      "text/plain": [
       "time_stamp\n",
       "2020-07-13 14:00:00    95.000000\n",
       "2020-07-13 15:00:00    64.270833\n",
       "2020-07-13 16:00:00    41.038172\n",
       "2020-07-13 17:00:00    30.308348\n",
       "2020-07-13 18:00:00    23.900165\n",
       "                         ...    \n",
       "2020-09-28 19:00:00     8.538561\n",
       "2020-09-28 20:00:00     8.175476\n",
       "2020-09-28 21:00:00     7.521438\n",
       "2020-09-28 22:00:00     6.919723\n",
       "2020-09-28 23:00:00     6.686145\n",
       "Freq: H, Name: ip, Length: 1858, dtype: float64"
      ]
     },
     "execution_count": 79,
     "metadata": {},
     "output_type": "execute_result"
    }
   ],
   "source": [
    "# Set the window span\n",
    "span = 24\n",
    "\n",
    "# compute midband\n",
    "midband = train.ewm(span=span).mean()\n",
    "midband"
   ]
  },
  {
   "cell_type": "code",
   "execution_count": 80,
   "metadata": {},
   "outputs": [
    {
     "data": {
      "text/plain": [
       "time_stamp\n",
       "2020-07-13 14:00:00          NaN\n",
       "2020-07-13 15:00:00    41.719300\n",
       "2020-07-13 16:00:00    47.617694\n",
       "2020-07-13 17:00:00    42.890845\n",
       "2020-07-13 18:00:00    38.583669\n",
       "                         ...    \n",
       "2020-09-28 19:00:00    16.281309\n",
       "2020-09-28 20:00:00    15.667051\n",
       "2020-09-28 21:00:00    15.197143\n",
       "2020-09-28 22:00:00    14.724865\n",
       "2020-09-28 23:00:00    14.146753\n",
       "Freq: H, Name: ip, Length: 1858, dtype: float64"
      ]
     },
     "execution_count": 80,
     "metadata": {},
     "output_type": "execute_result"
    }
   ],
   "source": [
    "# compute exponential stdev\n",
    "stdev = train.ewm(span=span).std()\n",
    "stdev"
   ]
  },
  {
   "cell_type": "code",
   "execution_count": 81,
   "metadata": {},
   "outputs": [
    {
     "data": {
      "text/plain": [
       "time_stamp\n",
       "2020-07-13 14:00:00           NaN\n",
       "2020-07-13 15:00:00    189.428734\n",
       "2020-07-13 16:00:00    183.891254\n",
       "2020-07-13 17:00:00    158.980884\n",
       "2020-07-13 18:00:00    139.651171\n",
       "                          ...    \n",
       "2020-09-28 19:00:00     57.382487\n",
       "2020-09-28 20:00:00     55.176630\n",
       "2020-09-28 21:00:00     53.112868\n",
       "2020-09-28 22:00:00     51.094318\n",
       "2020-09-28 23:00:00     49.126404\n",
       "Freq: H, Name: ip, Length: 1858, dtype: float64"
      ]
     },
     "execution_count": 81,
     "metadata": {},
     "output_type": "execute_result"
    }
   ],
   "source": [
    "# compute upper and lower bands\n",
    "ub = midband + stdev*3\n",
    "lb = midband - stdev*3\n",
    "\n",
    "ub"
   ]
  },
  {
   "cell_type": "code",
   "execution_count": 82,
   "metadata": {},
   "outputs": [
    {
     "data": {
      "text/plain": [
       "Text(0, 0.5, 'hits')"
      ]
     },
     "execution_count": 82,
     "metadata": {},
     "output_type": "execute_result"
    },
    {
     "data": {
      "image/png": "[encoded data removed]",
      "text/plain": [
       "<Figure size 1008x720 with 1 Axes>"
      ]
     },
     "metadata": {
      "needs_background": "light"
     },
     "output_type": "display_data"
    }
   ],
   "source": [
    "fig, ax = plt.subplots(figsize = (14,10))\n",
    "\n",
    "ax.plot(train.index, \n",
    "        train,\n",
    "        label='hits')\n",
    "\n",
    "ax.plot(train.index, \n",
    "        midband, \n",
    "        label = '24-day EMA - midband')\n",
    "ax.plot(train.index, \n",
    "        ub, \n",
    "        label = 'Upper Band')\n",
    "ax.plot(train.index, \n",
    "        lb, \n",
    "        label = 'Lower Band')\n",
    "\n",
    "ax.legend(loc='best')\n",
    "ax.set_ylabel('hits')"
   ]
  },
  {
   "cell_type": "markdown",
   "metadata": {},
   "source": [
    "## Where do you think we will have a %b > 1?\n",
    "- Compute %b\n",
    "- $\\%b = \\frac{last-LB}{UB-LB}$"
   ]
  },
  {
   "cell_type": "code",
   "execution_count": 83,
   "metadata": {},
   "outputs": [
    {
     "data": {
      "text/html": [
       "<div>\n",
       "<style scoped>\n",
       "    .dataframe tbody tr th:only-of-type {\n",
       "        vertical-align: middle;\n",
       "    }\n",
       "\n",
       "    .dataframe tbody tr th {\n",
       "        vertical-align: top;\n",
       "    }\n",
       "\n",
       "    .dataframe thead th {\n",
       "        text-align: right;\n",
       "    }\n",
       "</style>\n",
       "<table border=\"1\" class=\"dataframe\">\n",
       "  <thead>\n",
       "    <tr style=\"text-align: right;\">\n",
       "      <th></th>\n",
       "      <th>hits</th>\n",
       "      <th>midband</th>\n",
       "      <th>ub</th>\n",
       "      <th>lb</th>\n",
       "    </tr>\n",
       "    <tr>\n",
       "      <th>time_stamp</th>\n",
       "      <th></th>\n",
       "      <th></th>\n",
       "      <th></th>\n",
       "      <th></th>\n",
       "    </tr>\n",
       "  </thead>\n",
       "  <tbody>\n",
       "    <tr>\n",
       "      <th>2020-07-13 14:00:00</th>\n",
       "      <td>95</td>\n",
       "      <td>95.000000</td>\n",
       "      <td>NaN</td>\n",
       "      <td>NaN</td>\n",
       "    </tr>\n",
       "    <tr>\n",
       "      <th>2020-07-13 15:00:00</th>\n",
       "      <td>36</td>\n",
       "      <td>64.270833</td>\n",
       "      <td>189.428734</td>\n",
       "      <td>-60.887067</td>\n",
       "    </tr>\n",
       "    <tr>\n",
       "      <th>2020-07-13 16:00:00</th>\n",
       "      <td>0</td>\n",
       "      <td>41.038172</td>\n",
       "      <td>183.891254</td>\n",
       "      <td>-101.814909</td>\n",
       "    </tr>\n",
       "    <tr>\n",
       "      <th>2020-07-13 17:00:00</th>\n",
       "      <td>3</td>\n",
       "      <td>30.308348</td>\n",
       "      <td>158.980884</td>\n",
       "      <td>-98.364188</td>\n",
       "    </tr>\n",
       "    <tr>\n",
       "      <th>2020-07-13 18:00:00</th>\n",
       "      <td>3</td>\n",
       "      <td>23.900165</td>\n",
       "      <td>139.651171</td>\n",
       "      <td>-91.850841</td>\n",
       "    </tr>\n",
       "  </tbody>\n",
       "</table>\n",
       "</div>"
      ],
      "text/plain": [
       "                     hits    midband          ub          lb\n",
       "time_stamp                                                  \n",
       "2020-07-13 14:00:00    95  95.000000         NaN         NaN\n",
       "2020-07-13 15:00:00    36  64.270833  189.428734  -60.887067\n",
       "2020-07-13 16:00:00     0  41.038172  183.891254 -101.814909\n",
       "2020-07-13 17:00:00     3  30.308348  158.980884  -98.364188\n",
       "2020-07-13 18:00:00     3  23.900165  139.651171  -91.850841"
      ]
     },
     "execution_count": 83,
     "metadata": {},
     "output_type": "execute_result"
    }
   ],
   "source": [
    "train = pd.concat([train, midband, ub, lb], axis=1)\n",
    "train.columns = ['hits', 'midband', 'ub', 'lb']\n",
    "train.head()"
   ]
  },
  {
   "cell_type": "code",
   "execution_count": 84,
   "metadata": {},
   "outputs": [],
   "source": [
    "train['pct_b'] = (train['hits'] - train['lb'])/(train['ub'] - train['lb'])"
   ]
  },
  {
   "cell_type": "code",
   "execution_count": 85,
   "metadata": {},
   "outputs": [
    {
     "data": {
      "text/html": [
       "<div>\n",
       "<style scoped>\n",
       "    .dataframe tbody tr th:only-of-type {\n",
       "        vertical-align: middle;\n",
       "    }\n",
       "\n",
       "    .dataframe tbody tr th {\n",
       "        vertical-align: top;\n",
       "    }\n",
       "\n",
       "    .dataframe thead th {\n",
       "        text-align: right;\n",
       "    }\n",
       "</style>\n",
       "<table border=\"1\" class=\"dataframe\">\n",
       "  <thead>\n",
       "    <tr style=\"text-align: right;\">\n",
       "      <th></th>\n",
       "      <th>hits</th>\n",
       "      <th>midband</th>\n",
       "      <th>ub</th>\n",
       "      <th>lb</th>\n",
       "      <th>pct_b</th>\n",
       "    </tr>\n",
       "    <tr>\n",
       "      <th>time_stamp</th>\n",
       "      <th></th>\n",
       "      <th></th>\n",
       "      <th></th>\n",
       "      <th></th>\n",
       "      <th></th>\n",
       "    </tr>\n",
       "  </thead>\n",
       "  <tbody>\n",
       "    <tr>\n",
       "      <th>2020-07-13 14:00:00</th>\n",
       "      <td>95</td>\n",
       "      <td>95.000000</td>\n",
       "      <td>NaN</td>\n",
       "      <td>NaN</td>\n",
       "      <td>NaN</td>\n",
       "    </tr>\n",
       "    <tr>\n",
       "      <th>2020-07-13 15:00:00</th>\n",
       "      <td>36</td>\n",
       "      <td>64.270833</td>\n",
       "      <td>189.428734</td>\n",
       "      <td>-60.887067</td>\n",
       "      <td>0.387059</td>\n",
       "    </tr>\n",
       "    <tr>\n",
       "      <th>2020-07-13 16:00:00</th>\n",
       "      <td>0</td>\n",
       "      <td>41.038172</td>\n",
       "      <td>183.891254</td>\n",
       "      <td>-101.814909</td>\n",
       "      <td>0.356362</td>\n",
       "    </tr>\n",
       "    <tr>\n",
       "      <th>2020-07-13 17:00:00</th>\n",
       "      <td>3</td>\n",
       "      <td>30.308348</td>\n",
       "      <td>158.980884</td>\n",
       "      <td>-98.364188</td>\n",
       "      <td>0.393884</td>\n",
       "    </tr>\n",
       "    <tr>\n",
       "      <th>2020-07-13 18:00:00</th>\n",
       "      <td>3</td>\n",
       "      <td>23.900165</td>\n",
       "      <td>139.651171</td>\n",
       "      <td>-91.850841</td>\n",
       "      <td>0.409719</td>\n",
       "    </tr>\n",
       "  </tbody>\n",
       "</table>\n",
       "</div>"
      ],
      "text/plain": [
       "                     hits    midband          ub          lb     pct_b\n",
       "time_stamp                                                            \n",
       "2020-07-13 14:00:00    95  95.000000         NaN         NaN       NaN\n",
       "2020-07-13 15:00:00    36  64.270833  189.428734  -60.887067  0.387059\n",
       "2020-07-13 16:00:00     0  41.038172  183.891254 -101.814909  0.356362\n",
       "2020-07-13 17:00:00     3  30.308348  158.980884  -98.364188  0.393884\n",
       "2020-07-13 18:00:00     3  23.900165  139.651171  -91.850841  0.409719"
      ]
     },
     "execution_count": 85,
     "metadata": {},
     "output_type": "execute_result"
    }
   ],
   "source": [
    "train.head()"
   ]
  },
  {
   "cell_type": "code",
   "execution_count": 86,
   "metadata": {},
   "outputs": [
    {
     "data": {
      "text/html": [
       "<div>\n",
       "<style scoped>\n",
       "    .dataframe tbody tr th:only-of-type {\n",
       "        vertical-align: middle;\n",
       "    }\n",
       "\n",
       "    .dataframe tbody tr th {\n",
       "        vertical-align: top;\n",
       "    }\n",
       "\n",
       "    .dataframe thead th {\n",
       "        text-align: right;\n",
       "    }\n",
       "</style>\n",
       "<table border=\"1\" class=\"dataframe\">\n",
       "  <thead>\n",
       "    <tr style=\"text-align: right;\">\n",
       "      <th></th>\n",
       "      <th>hits</th>\n",
       "      <th>midband</th>\n",
       "      <th>ub</th>\n",
       "      <th>lb</th>\n",
       "      <th>pct_b</th>\n",
       "    </tr>\n",
       "    <tr>\n",
       "      <th>time_stamp</th>\n",
       "      <th></th>\n",
       "      <th></th>\n",
       "      <th></th>\n",
       "      <th></th>\n",
       "      <th></th>\n",
       "    </tr>\n",
       "  </thead>\n",
       "  <tbody>\n",
       "    <tr>\n",
       "      <th>2020-07-16 09:00:00</th>\n",
       "      <td>627</td>\n",
       "      <td>66.340771</td>\n",
       "      <td>577.716188</td>\n",
       "      <td>-445.034645</td>\n",
       "      <td>1.048188</td>\n",
       "    </tr>\n",
       "    <tr>\n",
       "      <th>2020-07-20 11:00:00</th>\n",
       "      <td>111</td>\n",
       "      <td>15.851134</td>\n",
       "      <td>110.598602</td>\n",
       "      <td>-78.896333</td>\n",
       "      <td>1.002118</td>\n",
       "    </tr>\n",
       "    <tr>\n",
       "      <th>2020-08-11 10:00:00</th>\n",
       "      <td>87</td>\n",
       "      <td>11.926708</td>\n",
       "      <td>83.401089</td>\n",
       "      <td>-59.547673</td>\n",
       "      <td>1.025176</td>\n",
       "    </tr>\n",
       "    <tr>\n",
       "      <th>2020-08-24 11:00:00</th>\n",
       "      <td>115</td>\n",
       "      <td>18.310511</td>\n",
       "      <td>112.044224</td>\n",
       "      <td>-75.423203</td>\n",
       "      <td>1.015767</td>\n",
       "    </tr>\n",
       "    <tr>\n",
       "      <th>2020-09-08 09:00:00</th>\n",
       "      <td>79</td>\n",
       "      <td>12.384795</td>\n",
       "      <td>75.819877</td>\n",
       "      <td>-51.050287</td>\n",
       "      <td>1.025066</td>\n",
       "    </tr>\n",
       "    <tr>\n",
       "      <th>2020-09-14 08:00:00</th>\n",
       "      <td>32</td>\n",
       "      <td>5.216640</td>\n",
       "      <td>31.948481</td>\n",
       "      <td>-21.515200</td>\n",
       "      <td>1.000964</td>\n",
       "    </tr>\n",
       "    <tr>\n",
       "      <th>2020-09-21 10:00:00</th>\n",
       "      <td>311</td>\n",
       "      <td>39.240564</td>\n",
       "      <td>293.654278</td>\n",
       "      <td>-215.173150</td>\n",
       "      <td>1.034090</td>\n",
       "    </tr>\n",
       "    <tr>\n",
       "      <th>2020-09-24 10:00:00</th>\n",
       "      <td>106</td>\n",
       "      <td>15.501522</td>\n",
       "      <td>104.016686</td>\n",
       "      <td>-73.013642</td>\n",
       "      <td>1.011203</td>\n",
       "    </tr>\n",
       "    <tr>\n",
       "      <th>2020-09-28 11:00:00</th>\n",
       "      <td>79</td>\n",
       "      <td>10.778169</td>\n",
       "      <td>76.253119</td>\n",
       "      <td>-54.696780</td>\n",
       "      <td>1.020977</td>\n",
       "    </tr>\n",
       "  </tbody>\n",
       "</table>\n",
       "</div>"
      ],
      "text/plain": [
       "                     hits    midband          ub          lb     pct_b\n",
       "time_stamp                                                            \n",
       "2020-07-16 09:00:00   627  66.340771  577.716188 -445.034645  1.048188\n",
       "2020-07-20 11:00:00   111  15.851134  110.598602  -78.896333  1.002118\n",
       "2020-08-11 10:00:00    87  11.926708   83.401089  -59.547673  1.025176\n",
       "2020-08-24 11:00:00   115  18.310511  112.044224  -75.423203  1.015767\n",
       "2020-09-08 09:00:00    79  12.384795   75.819877  -51.050287  1.025066\n",
       "2020-09-14 08:00:00    32   5.216640   31.948481  -21.515200  1.000964\n",
       "2020-09-21 10:00:00   311  39.240564  293.654278 -215.173150  1.034090\n",
       "2020-09-24 10:00:00   106  15.501522  104.016686  -73.013642  1.011203\n",
       "2020-09-28 11:00:00    79  10.778169   76.253119  -54.696780  1.020977"
      ]
     },
     "execution_count": 86,
     "metadata": {},
     "output_type": "execute_result"
    }
   ],
   "source": [
    "train[train['pct_b']>1]"
   ]
  },
  {
   "cell_type": "code",
   "execution_count": null,
   "metadata": {},
   "outputs": [],
   "source": []
  }
 ],
 "metadata": {
  "kernelspec": {
   "display_name": "Python 3",
   "language": "python",
   "name": "python3"
  },
  "language_info": {
   "codemirror_mode": {
    "name": "ipython",
    "version": 3
   },
   "file_extension": ".py",
   "mimetype": "text/x-python",
   "name": "python",
   "nbconvert_exporter": "python",
   "pygments_lexer": "ipython3",
   "version": "3.7.9"
  }
 },
 "nbformat": 4,
 "nbformat_minor": 4
}
